{
 "cells": [
  {
   "cell_type": "markdown",
   "metadata": {},
   "source": [
    "# Automated ML\n",
    "\n",
    "TODO: Import Dependencies. In the cell below, import all the dependencies that you will need to complete the project."
   ]
  },
  {
   "cell_type": "code",
   "execution_count": 1,
   "metadata": {},
   "outputs": [],
   "source": [
    "import logging\n",
    "import os\n",
    "import csv\n",
    "\n",
    "from matplotlib import pyplot as plt\n",
    "import numpy as np\n",
    "import pandas as pd\n",
    "from sklearn import datasets\n",
    "import pkg_resources\n",
    "\n",
    "import azureml.core\n",
    "from azureml.core.experiment import Experiment\n",
    "from azureml.core.workspace import Workspace\n",
    "from azureml.train.automl import AutoMLConfig\n",
    "from azureml.core.dataset import Dataset\n",
    "\n",
    "from azureml.pipeline.steps import AutoMLStep"
   ]
  },
  {
   "cell_type": "code",
   "execution_count": 2,
   "metadata": {
    "gather": {
     "logged": 1598423888013
    },
    "jupyter": {
     "outputs_hidden": false,
     "source_hidden": false
    },
    "nteract": {
     "transient": {
      "deleting": false
     }
    }
   },
   "outputs": [
    {
     "name": "stdout",
     "output_type": "stream",
     "text": [
      "Workspace name: quick-starts-ws-131494\n",
      "Azure region: southcentralus\n",
      "Subscription id: aa7cf8e8-d23f-4bce-a7b9-1f0b4e0ac8ee\n",
      "Resource group: aml-quickstarts-131494\n"
     ]
    }
   ],
   "source": [
    "from azureml.core import Workspace, Experiment\n",
    "from azureml.pipeline.steps import PythonScriptStep\n",
    "from azureml.train.sklearn import SKLearn\n",
    "\n",
    "ws = Workspace.get(name=\"quick-starts-ws-131494\")\n",
    "exp = Experiment(workspace=ws, name=\"udacity-project\")\n",
    "\n",
    "print('Workspace name: ' + ws.name, \n",
    "      'Azure region: ' + ws.location, \n",
    "      'Subscription id: ' + ws.subscription_id, \n",
    "      'Resource group: ' + ws.resource_group, sep = '\\n')\n",
    "\n",
    "run = exp.start_logging()\n",
    "from azureml.core.compute import ComputeTarget, AmlCompute\n",
    "\n",
    "# TODO: Create compute cluster\n",
    "\n",
    "# Use vm_size = \"Standard_D2_V2\" in your provisioning configuration.\n",
    "# max_nodes should be no greater than 4.\n",
    "vm_size = \"Standard_DS3_V2\"\n",
    "compute_name=\"notebook131494\"\n",
    "# create the cluster\n",
    "compute_min_nodes=0\n",
    "compute_max_nodes=4\n",
    " \n",
    "\n",
    "\n",
    "\n",
    "### YOUR CODE HERE ###\n",
    "# Checking if  compute already exist or not  if not creating a new target\n",
    "if compute_name in ws.compute_targets:\n",
    "    compute_target = ws.compute_targets[compute_name]\n",
    "    if compute_target and type(compute_target) is AmlCompute:\n",
    "        print(\"found compute target: \" + compute_name)\n",
    "else:\n",
    "    print(\"creating new compute target...\")\n",
    "    provisioning_config = AmlCompute.provisioning_configuration(vm_size = vm_size,\n",
    "                                                                min_nodes = compute_min_nodes, \n",
    "                                                                max_nodes = compute_max_nodes)\n",
    "    # if no min node count is provided it will use the scale settings for the cluster\n",
    "    compute_target.wait_for_completion(show_output=True, timeout_in_minutes=20)\n",
    "    # For a more detailed view of current AmlCompute status, use get_status()\n",
    "    print(compute_target.get_status().serialize())\n",
    "\n",
    "\n",
    "\n"
   ]
  },
  {
   "cell_type": "markdown",
   "metadata": {},
   "source": [
    "## Dataset\n",
    "\n",
    "### Overview\n",
    "TODO: In this markdown cell, give an overview of the dataset you are using. Also mention the task you will be performing.\n",
    "\n",
    "\n",
    "TODO: Get data. In the cell below, write code to access the data you will be using in this project. Remember that the dataset needs to be external."
   ]
  },
  {
   "cell_type": "code",
   "execution_count": 3,
   "metadata": {
    "gather": {
     "logged": 1598423890461
    },
    "jupyter": {
     "outputs_hidden": false,
     "source_hidden": false
    },
    "nteract": {
     "transient": {
      "deleting": false
     }
    }
   },
   "outputs": [
    {
     "name": "stdout",
     "output_type": "stream",
     "text": [
      "Uploading an estimated of 10 files\n",
      "Uploading ./AutoMLCapstone.ipynb\n",
      "Uploaded ./AutoMLCapstone.ipynb, 1 files out of an estimated total of 10\n",
      "Uploading ./final.ipynb\n",
      "Uploaded ./final.ipynb, 2 files out of an estimated total of 10\n",
      "Uploading ./log_model.pkl\n",
      "Uploaded ./log_model.pkl, 3 files out of an estimated total of 10\n",
      "Uploading ./train.py\n",
      "Uploaded ./train.py, 4 files out of an estimated total of 10\n",
      "Uploading ./heart_failure_clinical_records_dataset.csv\n",
      "Uploaded ./heart_failure_clinical_records_dataset.csv, 5 files out of an estimated total of 10\n",
      "Uploading ./HyperParameterTuningCapstone.ipynb\n",
      "Uploaded ./HyperParameterTuningCapstone.ipynb, 6 files out of an estimated total of 10\n",
      "Uploading ./.ipynb_checkpoints/AutoMLCapstone-checkpoint.ipynb\n",
      "Uploaded ./.ipynb_checkpoints/AutoMLCapstone-checkpoint.ipynb, 7 files out of an estimated total of 10\n",
      "Uploading ./.ipynb_checkpoints/final-checkpoint.ipynb\n",
      "Uploaded ./.ipynb_checkpoints/final-checkpoint.ipynb, 8 files out of an estimated total of 10\n",
      "Uploading ./.ipynb_checkpoints/HyperParameterTuningCapstone-checkpoint.ipynb\n",
      "Uploaded ./.ipynb_checkpoints/HyperParameterTuningCapstone-checkpoint.ipynb, 9 files out of an estimated total of 10\n",
      "Uploading ./.ipynb_checkpoints/train-checkpoint.py\n",
      "Uploaded ./.ipynb_checkpoints/train-checkpoint.py, 10 files out of an estimated total of 10\n",
      "Uploaded 10 files\n"
     ]
    },
    {
     "data": {
      "text/plain": [
       "$AZUREML_DATAREFERENCE_f165045fd8d0455fbb0d4daf4bad92a8"
      ]
     },
     "execution_count": 3,
     "metadata": {},
     "output_type": "execute_result"
    }
   ],
   "source": [
    "#ws = Workspace.from_config()\n",
    "\n",
    "# choose a name for experiment\n",
    "#experiment_name = 'your experiment name here'\n",
    "\n",
    "#experiment=Experiment(ws, experiment_name)\n",
    "\n",
    "#workspace = Workspace(subscription_id, resource_group, workspace_name)\n",
    "\n",
    "# get the datastore to upload prepared data\n",
    "datastore = ws.get_default_datastore()\n",
    "\n",
    "# upload the local file from src_dir to the target_path in datastore\n",
    "datastore.upload(src_dir='./', target_path='data')\n",
    "\n",
    "# create a dataset referencing the cloud location\n",
    "#"
   ]
  },
  {
   "cell_type": "code",
   "execution_count": 4,
   "metadata": {},
   "outputs": [],
   "source": [
    "dataset = Dataset.Tabular.from_delimited_files(path = [(datastore, ('data/heart_failure_clinical_records_dataset.csv'))])"
   ]
  },
  {
   "cell_type": "code",
   "execution_count": 5,
   "metadata": {},
   "outputs": [
    {
     "data": {
      "text/plain": [
       "{\n",
       "  \"source\": [\n",
       "    \"('workspaceblobstore', 'data/heart_failure_clinical_records_dataset.csv')\"\n",
       "  ],\n",
       "  \"definition\": [\n",
       "    \"GetDatastoreFiles\",\n",
       "    \"ParseDelimited\",\n",
       "    \"DropColumns\",\n",
       "    \"SetColumnTypes\"\n",
       "  ]\n",
       "}"
      ]
     },
     "execution_count": 5,
     "metadata": {},
     "output_type": "execute_result"
    }
   ],
   "source": [
    "dataset"
   ]
  },
  {
   "cell_type": "code",
   "execution_count": 6,
   "metadata": {},
   "outputs": [],
   "source": [
    "x_df=dataset.to_pandas_dataframe()"
   ]
  },
  {
   "cell_type": "code",
   "execution_count": 7,
   "metadata": {},
   "outputs": [
    {
     "data": {
      "text/html": [
       "<div>\n",
       "<style scoped>\n",
       "    .dataframe tbody tr th:only-of-type {\n",
       "        vertical-align: middle;\n",
       "    }\n",
       "\n",
       "    .dataframe tbody tr th {\n",
       "        vertical-align: top;\n",
       "    }\n",
       "\n",
       "    .dataframe thead th {\n",
       "        text-align: right;\n",
       "    }\n",
       "</style>\n",
       "<table border=\"1\" class=\"dataframe\">\n",
       "  <thead>\n",
       "    <tr style=\"text-align: right;\">\n",
       "      <th></th>\n",
       "      <th>age</th>\n",
       "      <th>anaemia</th>\n",
       "      <th>creatinine_phosphokinase</th>\n",
       "      <th>diabetes</th>\n",
       "      <th>ejection_fraction</th>\n",
       "      <th>high_blood_pressure</th>\n",
       "      <th>platelets</th>\n",
       "      <th>serum_creatinine</th>\n",
       "      <th>serum_sodium</th>\n",
       "      <th>sex</th>\n",
       "      <th>smoking</th>\n",
       "      <th>time</th>\n",
       "      <th>DEATH_EVENT</th>\n",
       "    </tr>\n",
       "  </thead>\n",
       "  <tbody>\n",
       "    <tr>\n",
       "      <th>0</th>\n",
       "      <td>75.0</td>\n",
       "      <td>0</td>\n",
       "      <td>582</td>\n",
       "      <td>0</td>\n",
       "      <td>20</td>\n",
       "      <td>1</td>\n",
       "      <td>265000.00</td>\n",
       "      <td>1.9</td>\n",
       "      <td>130</td>\n",
       "      <td>1</td>\n",
       "      <td>0</td>\n",
       "      <td>4</td>\n",
       "      <td>1</td>\n",
       "    </tr>\n",
       "    <tr>\n",
       "      <th>1</th>\n",
       "      <td>55.0</td>\n",
       "      <td>0</td>\n",
       "      <td>7861</td>\n",
       "      <td>0</td>\n",
       "      <td>38</td>\n",
       "      <td>0</td>\n",
       "      <td>263358.03</td>\n",
       "      <td>1.1</td>\n",
       "      <td>136</td>\n",
       "      <td>1</td>\n",
       "      <td>0</td>\n",
       "      <td>6</td>\n",
       "      <td>1</td>\n",
       "    </tr>\n",
       "    <tr>\n",
       "      <th>2</th>\n",
       "      <td>65.0</td>\n",
       "      <td>0</td>\n",
       "      <td>146</td>\n",
       "      <td>0</td>\n",
       "      <td>20</td>\n",
       "      <td>0</td>\n",
       "      <td>162000.00</td>\n",
       "      <td>1.3</td>\n",
       "      <td>129</td>\n",
       "      <td>1</td>\n",
       "      <td>1</td>\n",
       "      <td>7</td>\n",
       "      <td>1</td>\n",
       "    </tr>\n",
       "    <tr>\n",
       "      <th>3</th>\n",
       "      <td>50.0</td>\n",
       "      <td>1</td>\n",
       "      <td>111</td>\n",
       "      <td>0</td>\n",
       "      <td>20</td>\n",
       "      <td>0</td>\n",
       "      <td>210000.00</td>\n",
       "      <td>1.9</td>\n",
       "      <td>137</td>\n",
       "      <td>1</td>\n",
       "      <td>0</td>\n",
       "      <td>7</td>\n",
       "      <td>1</td>\n",
       "    </tr>\n",
       "    <tr>\n",
       "      <th>4</th>\n",
       "      <td>65.0</td>\n",
       "      <td>1</td>\n",
       "      <td>160</td>\n",
       "      <td>1</td>\n",
       "      <td>20</td>\n",
       "      <td>0</td>\n",
       "      <td>327000.00</td>\n",
       "      <td>2.7</td>\n",
       "      <td>116</td>\n",
       "      <td>0</td>\n",
       "      <td>0</td>\n",
       "      <td>8</td>\n",
       "      <td>1</td>\n",
       "    </tr>\n",
       "    <tr>\n",
       "      <th>...</th>\n",
       "      <td>...</td>\n",
       "      <td>...</td>\n",
       "      <td>...</td>\n",
       "      <td>...</td>\n",
       "      <td>...</td>\n",
       "      <td>...</td>\n",
       "      <td>...</td>\n",
       "      <td>...</td>\n",
       "      <td>...</td>\n",
       "      <td>...</td>\n",
       "      <td>...</td>\n",
       "      <td>...</td>\n",
       "      <td>...</td>\n",
       "    </tr>\n",
       "    <tr>\n",
       "      <th>294</th>\n",
       "      <td>62.0</td>\n",
       "      <td>0</td>\n",
       "      <td>61</td>\n",
       "      <td>1</td>\n",
       "      <td>38</td>\n",
       "      <td>1</td>\n",
       "      <td>155000.00</td>\n",
       "      <td>1.1</td>\n",
       "      <td>143</td>\n",
       "      <td>1</td>\n",
       "      <td>1</td>\n",
       "      <td>270</td>\n",
       "      <td>0</td>\n",
       "    </tr>\n",
       "    <tr>\n",
       "      <th>295</th>\n",
       "      <td>55.0</td>\n",
       "      <td>0</td>\n",
       "      <td>1820</td>\n",
       "      <td>0</td>\n",
       "      <td>38</td>\n",
       "      <td>0</td>\n",
       "      <td>270000.00</td>\n",
       "      <td>1.2</td>\n",
       "      <td>139</td>\n",
       "      <td>0</td>\n",
       "      <td>0</td>\n",
       "      <td>271</td>\n",
       "      <td>0</td>\n",
       "    </tr>\n",
       "    <tr>\n",
       "      <th>296</th>\n",
       "      <td>45.0</td>\n",
       "      <td>0</td>\n",
       "      <td>2060</td>\n",
       "      <td>1</td>\n",
       "      <td>60</td>\n",
       "      <td>0</td>\n",
       "      <td>742000.00</td>\n",
       "      <td>0.8</td>\n",
       "      <td>138</td>\n",
       "      <td>0</td>\n",
       "      <td>0</td>\n",
       "      <td>278</td>\n",
       "      <td>0</td>\n",
       "    </tr>\n",
       "    <tr>\n",
       "      <th>297</th>\n",
       "      <td>45.0</td>\n",
       "      <td>0</td>\n",
       "      <td>2413</td>\n",
       "      <td>0</td>\n",
       "      <td>38</td>\n",
       "      <td>0</td>\n",
       "      <td>140000.00</td>\n",
       "      <td>1.4</td>\n",
       "      <td>140</td>\n",
       "      <td>1</td>\n",
       "      <td>1</td>\n",
       "      <td>280</td>\n",
       "      <td>0</td>\n",
       "    </tr>\n",
       "    <tr>\n",
       "      <th>298</th>\n",
       "      <td>50.0</td>\n",
       "      <td>0</td>\n",
       "      <td>196</td>\n",
       "      <td>0</td>\n",
       "      <td>45</td>\n",
       "      <td>0</td>\n",
       "      <td>395000.00</td>\n",
       "      <td>1.6</td>\n",
       "      <td>136</td>\n",
       "      <td>1</td>\n",
       "      <td>1</td>\n",
       "      <td>285</td>\n",
       "      <td>0</td>\n",
       "    </tr>\n",
       "  </tbody>\n",
       "</table>\n",
       "<p>299 rows × 13 columns</p>\n",
       "</div>"
      ],
      "text/plain": [
       "      age  anaemia  creatinine_phosphokinase  diabetes  ejection_fraction  \\\n",
       "0    75.0        0                       582         0                 20   \n",
       "1    55.0        0                      7861         0                 38   \n",
       "2    65.0        0                       146         0                 20   \n",
       "3    50.0        1                       111         0                 20   \n",
       "4    65.0        1                       160         1                 20   \n",
       "..    ...      ...                       ...       ...                ...   \n",
       "294  62.0        0                        61         1                 38   \n",
       "295  55.0        0                      1820         0                 38   \n",
       "296  45.0        0                      2060         1                 60   \n",
       "297  45.0        0                      2413         0                 38   \n",
       "298  50.0        0                       196         0                 45   \n",
       "\n",
       "     high_blood_pressure  platelets  serum_creatinine  serum_sodium  sex  \\\n",
       "0                      1  265000.00               1.9           130    1   \n",
       "1                      0  263358.03               1.1           136    1   \n",
       "2                      0  162000.00               1.3           129    1   \n",
       "3                      0  210000.00               1.9           137    1   \n",
       "4                      0  327000.00               2.7           116    0   \n",
       "..                   ...        ...               ...           ...  ...   \n",
       "294                    1  155000.00               1.1           143    1   \n",
       "295                    0  270000.00               1.2           139    0   \n",
       "296                    0  742000.00               0.8           138    0   \n",
       "297                    0  140000.00               1.4           140    1   \n",
       "298                    0  395000.00               1.6           136    1   \n",
       "\n",
       "     smoking  time  DEATH_EVENT  \n",
       "0          0     4            1  \n",
       "1          0     6            1  \n",
       "2          1     7            1  \n",
       "3          0     7            1  \n",
       "4          0     8            1  \n",
       "..       ...   ...          ...  \n",
       "294        1   270            0  \n",
       "295        0   271            0  \n",
       "296        0   278            0  \n",
       "297        1   280            0  \n",
       "298        1   285            0  \n",
       "\n",
       "[299 rows x 13 columns]"
      ]
     },
     "execution_count": 7,
     "metadata": {},
     "output_type": "execute_result"
    }
   ],
   "source": [
    "x_df"
   ]
  },
  {
   "cell_type": "code",
   "execution_count": 6,
   "metadata": {},
   "outputs": [
    {
     "data": {
      "text/plain": [
       "Index(['age', 'anaemia', 'creatinine_phosphokinase', 'diabetes',\n",
       "       'ejection_fraction', 'high_blood_pressure', 'platelets',\n",
       "       'serum_creatinine', 'serum_sodium', 'sex', 'smoking', 'time',\n",
       "       'DEATH_EVENT'],\n",
       "      dtype='object')"
      ]
     },
     "execution_count": 6,
     "metadata": {},
     "output_type": "execute_result"
    }
   ],
   "source": [
    "x_df.columns"
   ]
  },
  {
   "cell_type": "code",
   "execution_count": 7,
   "metadata": {},
   "outputs": [],
   "source": [
    "x_df=x_df.drop(['DEATH_EVENT'],axis=1)"
   ]
  },
  {
   "cell_type": "code",
   "execution_count": null,
   "metadata": {},
   "outputs": [],
   "source": [
    "\"\"\"\n",
    "est = SKLearn(source_directory=\"./\", \n",
    "                compute_target=compute_target, \n",
    "                vm_size=vm_size,\n",
    "                entry_script='train.py'\n",
    "               )\n",
    "\n",
    "\"\"\""
   ]
  },
  {
   "cell_type": "code",
   "execution_count": 8,
   "metadata": {},
   "outputs": [
    {
     "data": {
      "text/plain": [
       "{\n",
       "  \"source\": [\n",
       "    \"('workspaceblobstore', 'data/heart_failure_clinical_records_dataset.csv')\"\n",
       "  ],\n",
       "  \"definition\": [\n",
       "    \"GetDatastoreFiles\",\n",
       "    \"ParseDelimited\",\n",
       "    \"DropColumns\",\n",
       "    \"SetColumnTypes\"\n",
       "  ]\n",
       "}"
      ]
     },
     "execution_count": 8,
     "metadata": {},
     "output_type": "execute_result"
    }
   ],
   "source": [
    "dataset"
   ]
  },
  {
   "cell_type": "markdown",
   "metadata": {},
   "source": [
    "## AutoML Configuration\n",
    "\n",
    "TODO: Explain why you chose the automl settings and cofiguration you used below."
   ]
  },
  {
   "cell_type": "code",
   "execution_count": 8,
   "metadata": {
    "gather": {
     "logged": 1598429217746
    },
    "jupyter": {
     "outputs_hidden": false,
     "source_hidden": false
    },
    "nteract": {
     "transient": {
      "deleting": false
     }
    }
   },
   "outputs": [],
   "source": [
    "# TODO: Put your automl settings here\n",
    "\n",
    "\n",
    "\n",
    "from azureml.train.automl import AutoMLConfig\n",
    "import numpy as np\n",
    "\n",
    "\n",
    "# Set parameters for AutoMLConfig\n",
    "# NOTE: DO NOT CHANGE THE experiment_timeout_minutes PARAMETER OR YOUR INSTANCE WILL TIME OUT.\n",
    "# If you wish to run the experiment longer, you will need to run this notebook in your own\n",
    "# Azure tenant, which will incur personal costs.\n",
    "automl_config = AutoMLConfig(\n",
    "    experiment_timeout_minutes=30,\n",
    "    task='classification',\n",
    "    compute_target=compute_target,\n",
    "    primary_metric=\"accuracy\",\n",
    "    training_data=dataset,\n",
    "    label_column_name='DEATH_EVENT',\n",
    "    #allowed_models=[\"LightGBM\",\"RandomForest\"],\n",
    "    n_cross_validations=3)\n"
   ]
  },
  {
   "cell_type": "code",
   "execution_count": 9,
   "metadata": {},
   "outputs": [
    {
     "name": "stdout",
     "output_type": "stream",
     "text": [
      "Running on remote.\n",
      "No run_configuration provided, running on notebook131494 with default configuration\n",
      "Running on remote compute: notebook131494\n",
      "Parent Run ID: AutoML_4472f920-4aeb-4187-a1b1-38c1ee211fd5\n",
      "\n",
      "Current status: FeaturesGeneration. Generating features for the dataset.\n",
      "Current status: ModelSelection. Beginning model selection.\n",
      "\n",
      "****************************************************************************************************\n",
      "DATA GUARDRAILS: \n",
      "\n",
      "TYPE:         Class balancing detection\n",
      "STATUS:       PASSED\n",
      "DESCRIPTION:  Your inputs were analyzed, and all classes are balanced in your training data.\n",
      "              Learn more about imbalanced data: https://aka.ms/AutomatedMLImbalancedData\n",
      "\n",
      "****************************************************************************************************\n",
      "\n",
      "TYPE:         Missing feature values imputation\n",
      "STATUS:       PASSED\n",
      "DESCRIPTION:  No feature missing values were detected in the training data.\n",
      "              Learn more about missing value imputation: https://aka.ms/AutomatedMLFeaturization\n",
      "\n",
      "****************************************************************************************************\n",
      "\n",
      "TYPE:         High cardinality feature detection\n",
      "STATUS:       PASSED\n",
      "DESCRIPTION:  Your inputs were analyzed, and no high cardinality features were detected.\n",
      "              Learn more about high cardinality feature handling: https://aka.ms/AutomatedMLFeaturization\n",
      "\n",
      "****************************************************************************************************\n",
      "\n",
      "****************************************************************************************************\n",
      "ITERATION: The iteration being evaluated.\n",
      "PIPELINE: A summary description of the pipeline being evaluated.\n",
      "DURATION: Time taken for the current iteration.\n",
      "METRIC: The result of computing score on the fitted pipeline.\n",
      "BEST: The best observed score thus far.\n",
      "****************************************************************************************************\n",
      "\n",
      " ITERATION   PIPELINE                                       DURATION      METRIC      BEST\n",
      "         0   MaxAbsScaler LightGBM                          0:00:57       0.8025    0.8025\n",
      "         1   MaxAbsScaler XGBoostClassifier                 0:01:03       0.8193    0.8193\n",
      "         2   MinMaxScaler RandomForest                      0:01:02       0.8193    0.8193\n",
      "         3   MinMaxScaler RandomForest                      0:01:02       0.8294    0.8294\n",
      "         4   MinMaxScaler RandomForest                      0:01:04       0.8293    0.8294\n",
      "         5   MinMaxScaler SVM                               0:00:56       0.7190    0.8294\n",
      "         6   MaxAbsScaler GradientBoosting                  0:01:14       0.8294    0.8294\n",
      "         7   StandardScalerWrapper RandomForest             0:01:05       0.8260    0.8294\n",
      "         8   SparseNormalizer XGBoostClassifier             0:01:13       0.8094    0.8294\n",
      "         9   SparseNormalizer LightGBM                      0:01:06       0.8092    0.8294\n",
      "        10   RobustScaler RandomForest                      0:00:59       0.8393    0.8393\n",
      "        11   RobustScaler ExtremeRandomTrees                0:00:59       0.8427    0.8427\n",
      "        12   MaxAbsScaler LightGBM                          0:01:04       0.8193    0.8427\n",
      "        13   SparseNormalizer XGBoostClassifier             0:01:04       0.8161    0.8427\n",
      "        14   StandardScalerWrapper ExtremeRandomTrees       0:01:12       0.8261    0.8427\n",
      "        15   StandardScalerWrapper XGBoostClassifier        0:00:59       0.8293    0.8427\n",
      "        16   StandardScalerWrapper GradientBoosting         0:00:55       0.8193    0.8427\n",
      "        17   StandardScalerWrapper ExtremeRandomTrees       0:00:53       0.7525    0.8427\n",
      "        18   RobustScaler ExtremeRandomTrees                0:01:04       0.8395    0.8427\n",
      "        19   StandardScalerWrapper XGBoostClassifier        0:01:02       0.8327    0.8427\n",
      "        20   StandardScalerWrapper LightGBM                 0:00:59       0.8293    0.8427\n",
      "        21   SparseNormalizer RandomForest                  0:01:00       0.7758    0.8427\n",
      "        22                                                  0:00:39          nan    0.8427\n",
      "        23    VotingEnsemble                                0:01:24       0.8595    0.8595\n",
      "        24    StackEnsemble                                 0:01:17       0.8259    0.8595\n"
     ]
    },
    {
     "data": {
      "application/vnd.jupyter.widget-view+json": {
       "model_id": "2b1411d0a57741e59b0ab1a6034b1db5",
       "version_major": 2,
       "version_minor": 0
      },
      "text/plain": [
       "_AutoMLWidget(widget_settings={'childWidgetDisplay': 'popup', 'send_telemetry': False, 'log_level': 'INFO', 's…"
      ]
     },
     "metadata": {},
     "output_type": "display_data"
    },
    {
     "data": {
      "application/aml.mini.widget.v1": "{\"status\": \"Completed\", \"workbench_run_details_uri\": \"https://ml.azure.com/experiments/automl_test/runs/AutoML_4472f920-4aeb-4187-a1b1-38c1ee211fd5?wsid=/subscriptions/aa7cf8e8-d23f-4bce-a7b9-1f0b4e0ac8ee/resourcegroups/aml-quickstarts-131494/workspaces/quick-starts-ws-131494\", \"run_id\": \"AutoML_4472f920-4aeb-4187-a1b1-38c1ee211fd5\", \"run_properties\": {\"run_id\": \"AutoML_4472f920-4aeb-4187-a1b1-38c1ee211fd5\", \"created_utc\": \"2020-12-23T17:02:07.496138Z\", \"properties\": {\"num_iterations\": \"1000\", \"training_type\": \"TrainFull\", \"acquisition_function\": \"EI\", \"primary_metric\": \"accuracy\", \"train_split\": \"0\", \"acquisition_parameter\": \"0\", \"num_cross_validation\": \"3\", \"target\": \"notebook131494\", \"AMLSettingsJsonString\": \"{\\\"path\\\":null,\\\"name\\\":\\\"automl_test\\\",\\\"subscription_id\\\":\\\"aa7cf8e8-d23f-4bce-a7b9-1f0b4e0ac8ee\\\",\\\"resource_group\\\":\\\"aml-quickstarts-131494\\\",\\\"workspace_name\\\":\\\"quick-starts-ws-131494\\\",\\\"region\\\":\\\"southcentralus\\\",\\\"compute_target\\\":\\\"notebook131494\\\",\\\"spark_service\\\":null,\\\"azure_service\\\":\\\"remote\\\",\\\"many_models\\\":false,\\\"pipeline_fetch_max_batch_size\\\":1,\\\"iterations\\\":1000,\\\"primary_metric\\\":\\\"accuracy\\\",\\\"task_type\\\":\\\"classification\\\",\\\"data_script\\\":null,\\\"validation_size\\\":0.0,\\\"n_cross_validations\\\":3,\\\"y_min\\\":null,\\\"y_max\\\":null,\\\"num_classes\\\":null,\\\"featurization\\\":\\\"auto\\\",\\\"_ignore_package_version_incompatibilities\\\":false,\\\"is_timeseries\\\":false,\\\"max_cores_per_iteration\\\":1,\\\"max_concurrent_iterations\\\":1,\\\"iteration_timeout_minutes\\\":null,\\\"mem_in_mb\\\":null,\\\"enforce_time_on_windows\\\":false,\\\"experiment_timeout_minutes\\\":30,\\\"experiment_exit_score\\\":null,\\\"whitelist_models\\\":null,\\\"blacklist_algos\\\":[\\\"TensorFlowLinearClassifier\\\",\\\"TensorFlowDNN\\\"],\\\"supported_models\\\":[\\\"LinearSVM\\\",\\\"AveragedPerceptronClassifier\\\",\\\"XGBoostClassifier\\\",\\\"BernoulliNaiveBayes\\\",\\\"SVM\\\",\\\"RandomForest\\\",\\\"KNN\\\",\\\"ExtremeRandomTrees\\\",\\\"LightGBM\\\",\\\"TensorFlowDNN\\\",\\\"TensorFlowLinearClassifier\\\",\\\"DecisionTree\\\",\\\"SGD\\\",\\\"MultinomialNaiveBayes\\\",\\\"LogisticRegression\\\",\\\"GradientBoosting\\\"],\\\"auto_blacklist\\\":true,\\\"blacklist_samples_reached\\\":false,\\\"exclude_nan_labels\\\":true,\\\"verbosity\\\":20,\\\"_debug_log\\\":\\\"azureml_automl.log\\\",\\\"show_warnings\\\":false,\\\"model_explainability\\\":true,\\\"service_url\\\":null,\\\"sdk_url\\\":null,\\\"sdk_packages\\\":null,\\\"enable_onnx_compatible_models\\\":false,\\\"enable_split_onnx_featurizer_estimator_models\\\":false,\\\"vm_type\\\":\\\"STANDARD_DS3_V2\\\",\\\"telemetry_verbosity\\\":20,\\\"send_telemetry\\\":true,\\\"enable_dnn\\\":false,\\\"scenario\\\":\\\"SDK-1.13.0\\\",\\\"environment_label\\\":null,\\\"force_text_dnn\\\":false,\\\"enable_feature_sweeping\\\":true,\\\"enable_early_stopping\\\":false,\\\"early_stopping_n_iters\\\":10,\\\"metrics\\\":null,\\\"enable_ensembling\\\":true,\\\"enable_stack_ensembling\\\":true,\\\"ensemble_iterations\\\":15,\\\"enable_tf\\\":false,\\\"enable_subsampling\\\":null,\\\"subsample_seed\\\":null,\\\"enable_nimbusml\\\":false,\\\"enable_streaming\\\":false,\\\"force_streaming\\\":false,\\\"track_child_runs\\\":true,\\\"allowed_private_models\\\":[],\\\"label_column_name\\\":\\\"DEATH_EVENT\\\",\\\"weight_column_name\\\":null,\\\"cv_split_column_names\\\":null,\\\"enable_local_managed\\\":false,\\\"_local_managed_run_id\\\":null,\\\"cost_mode\\\":1,\\\"lag_length\\\":0,\\\"metric_operation\\\":\\\"maximize\\\",\\\"preprocess\\\":true}\", \"DataPrepJsonString\": \"{\\\\\\\"training_data\\\\\\\": \\\\\\\"{\\\\\\\\\\\\\\\"blocks\\\\\\\\\\\\\\\": [{\\\\\\\\\\\\\\\"id\\\\\\\\\\\\\\\": \\\\\\\\\\\\\\\"4b098966-f6e0-4eba-850f-7e6854ced912\\\\\\\\\\\\\\\", \\\\\\\\\\\\\\\"type\\\\\\\\\\\\\\\": \\\\\\\\\\\\\\\"Microsoft.DPrep.GetDatastoreFilesBlock\\\\\\\\\\\\\\\", \\\\\\\\\\\\\\\"arguments\\\\\\\\\\\\\\\": {\\\\\\\\\\\\\\\"datastores\\\\\\\\\\\\\\\": [{\\\\\\\\\\\\\\\"datastoreName\\\\\\\\\\\\\\\": \\\\\\\\\\\\\\\"workspaceblobstore\\\\\\\\\\\\\\\", \\\\\\\\\\\\\\\"path\\\\\\\\\\\\\\\": \\\\\\\\\\\\\\\"data/heart_failure_clinical_records_dataset.csv\\\\\\\\\\\\\\\", \\\\\\\\\\\\\\\"resourceGroup\\\\\\\\\\\\\\\": \\\\\\\\\\\\\\\"aml-quickstarts-131494\\\\\\\\\\\\\\\", \\\\\\\\\\\\\\\"subscription\\\\\\\\\\\\\\\": \\\\\\\\\\\\\\\"aa7cf8e8-d23f-4bce-a7b9-1f0b4e0ac8ee\\\\\\\\\\\\\\\", \\\\\\\\\\\\\\\"workspaceName\\\\\\\\\\\\\\\": \\\\\\\\\\\\\\\"quick-starts-ws-131494\\\\\\\\\\\\\\\"}]}, \\\\\\\\\\\\\\\"localData\\\\\\\\\\\\\\\": {}, \\\\\\\\\\\\\\\"isEnabled\\\\\\\\\\\\\\\": true, \\\\\\\\\\\\\\\"name\\\\\\\\\\\\\\\": null, \\\\\\\\\\\\\\\"annotation\\\\\\\\\\\\\\\": null}, {\\\\\\\\\\\\\\\"id\\\\\\\\\\\\\\\": \\\\\\\\\\\\\\\"d45fe1c3-d68c-458e-9a15-96bee266fdd6\\\\\\\\\\\\\\\", \\\\\\\\\\\\\\\"type\\\\\\\\\\\\\\\": \\\\\\\\\\\\\\\"Microsoft.DPrep.ParseDelimitedBlock\\\\\\\\\\\\\\\", \\\\\\\\\\\\\\\"arguments\\\\\\\\\\\\\\\": {\\\\\\\\\\\\\\\"columnHeadersMode\\\\\\\\\\\\\\\": 3, \\\\\\\\\\\\\\\"fileEncoding\\\\\\\\\\\\\\\": 0, \\\\\\\\\\\\\\\"handleQuotedLineBreaks\\\\\\\\\\\\\\\": false, \\\\\\\\\\\\\\\"preview\\\\\\\\\\\\\\\": false, \\\\\\\\\\\\\\\"separator\\\\\\\\\\\\\\\": \\\\\\\\\\\\\\\",\\\\\\\\\\\\\\\", \\\\\\\\\\\\\\\"skipRows\\\\\\\\\\\\\\\": 0, \\\\\\\\\\\\\\\"skipRowsMode\\\\\\\\\\\\\\\": 0}, \\\\\\\\\\\\\\\"localData\\\\\\\\\\\\\\\": {}, \\\\\\\\\\\\\\\"isEnabled\\\\\\\\\\\\\\\": true, \\\\\\\\\\\\\\\"name\\\\\\\\\\\\\\\": null, \\\\\\\\\\\\\\\"annotation\\\\\\\\\\\\\\\": null}, {\\\\\\\\\\\\\\\"id\\\\\\\\\\\\\\\": \\\\\\\\\\\\\\\"39158510-f049-4b93-8a5d-58ee6e605b72\\\\\\\\\\\\\\\", \\\\\\\\\\\\\\\"type\\\\\\\\\\\\\\\": \\\\\\\\\\\\\\\"Microsoft.DPrep.DropColumnsBlock\\\\\\\\\\\\\\\", \\\\\\\\\\\\\\\"arguments\\\\\\\\\\\\\\\": {\\\\\\\\\\\\\\\"columns\\\\\\\\\\\\\\\": {\\\\\\\\\\\\\\\"type\\\\\\\\\\\\\\\": 0, \\\\\\\\\\\\\\\"details\\\\\\\\\\\\\\\": {\\\\\\\\\\\\\\\"selectedColumns\\\\\\\\\\\\\\\": [\\\\\\\\\\\\\\\"Path\\\\\\\\\\\\\\\"]}}}, \\\\\\\\\\\\\\\"localData\\\\\\\\\\\\\\\": {}, \\\\\\\\\\\\\\\"isEnabled\\\\\\\\\\\\\\\": true, \\\\\\\\\\\\\\\"name\\\\\\\\\\\\\\\": null, \\\\\\\\\\\\\\\"annotation\\\\\\\\\\\\\\\": null}, {\\\\\\\\\\\\\\\"id\\\\\\\\\\\\\\\": \\\\\\\\\\\\\\\"cb092187-3b4f-447e-97ca-4628665f87b6\\\\\\\\\\\\\\\", \\\\\\\\\\\\\\\"type\\\\\\\\\\\\\\\": \\\\\\\\\\\\\\\"Microsoft.DPrep.SetColumnTypesBlock\\\\\\\\\\\\\\\", \\\\\\\\\\\\\\\"arguments\\\\\\\\\\\\\\\": {\\\\\\\\\\\\\\\"columnConversion\\\\\\\\\\\\\\\": [{\\\\\\\\\\\\\\\"column\\\\\\\\\\\\\\\": {\\\\\\\\\\\\\\\"type\\\\\\\\\\\\\\\": 2, \\\\\\\\\\\\\\\"details\\\\\\\\\\\\\\\": {\\\\\\\\\\\\\\\"selectedColumn\\\\\\\\\\\\\\\": \\\\\\\\\\\\\\\"age\\\\\\\\\\\\\\\"}}, \\\\\\\\\\\\\\\"typeProperty\\\\\\\\\\\\\\\": 3}, {\\\\\\\\\\\\\\\"column\\\\\\\\\\\\\\\": {\\\\\\\\\\\\\\\"type\\\\\\\\\\\\\\\": 2, \\\\\\\\\\\\\\\"details\\\\\\\\\\\\\\\": {\\\\\\\\\\\\\\\"selectedColumn\\\\\\\\\\\\\\\": \\\\\\\\\\\\\\\"anaemia\\\\\\\\\\\\\\\"}}, \\\\\\\\\\\\\\\"typeProperty\\\\\\\\\\\\\\\": 2}, {\\\\\\\\\\\\\\\"column\\\\\\\\\\\\\\\": {\\\\\\\\\\\\\\\"type\\\\\\\\\\\\\\\": 2, \\\\\\\\\\\\\\\"details\\\\\\\\\\\\\\\": {\\\\\\\\\\\\\\\"selectedColumn\\\\\\\\\\\\\\\": \\\\\\\\\\\\\\\"creatinine_phosphokinase\\\\\\\\\\\\\\\"}}, \\\\\\\\\\\\\\\"typeProperty\\\\\\\\\\\\\\\": 2}, {\\\\\\\\\\\\\\\"column\\\\\\\\\\\\\\\": {\\\\\\\\\\\\\\\"type\\\\\\\\\\\\\\\": 2, \\\\\\\\\\\\\\\"details\\\\\\\\\\\\\\\": {\\\\\\\\\\\\\\\"selectedColumn\\\\\\\\\\\\\\\": \\\\\\\\\\\\\\\"diabetes\\\\\\\\\\\\\\\"}}, \\\\\\\\\\\\\\\"typeProperty\\\\\\\\\\\\\\\": 2}, {\\\\\\\\\\\\\\\"column\\\\\\\\\\\\\\\": {\\\\\\\\\\\\\\\"type\\\\\\\\\\\\\\\": 2, \\\\\\\\\\\\\\\"details\\\\\\\\\\\\\\\": {\\\\\\\\\\\\\\\"selectedColumn\\\\\\\\\\\\\\\": \\\\\\\\\\\\\\\"ejection_fraction\\\\\\\\\\\\\\\"}}, \\\\\\\\\\\\\\\"typeProperty\\\\\\\\\\\\\\\": 2}, {\\\\\\\\\\\\\\\"column\\\\\\\\\\\\\\\": {\\\\\\\\\\\\\\\"type\\\\\\\\\\\\\\\": 2, \\\\\\\\\\\\\\\"details\\\\\\\\\\\\\\\": {\\\\\\\\\\\\\\\"selectedColumn\\\\\\\\\\\\\\\": \\\\\\\\\\\\\\\"high_blood_pressure\\\\\\\\\\\\\\\"}}, \\\\\\\\\\\\\\\"typeProperty\\\\\\\\\\\\\\\": 2}, {\\\\\\\\\\\\\\\"column\\\\\\\\\\\\\\\": {\\\\\\\\\\\\\\\"type\\\\\\\\\\\\\\\": 2, \\\\\\\\\\\\\\\"details\\\\\\\\\\\\\\\": {\\\\\\\\\\\\\\\"selectedColumn\\\\\\\\\\\\\\\": \\\\\\\\\\\\\\\"platelets\\\\\\\\\\\\\\\"}}, \\\\\\\\\\\\\\\"typeProperty\\\\\\\\\\\\\\\": 3}, {\\\\\\\\\\\\\\\"column\\\\\\\\\\\\\\\": {\\\\\\\\\\\\\\\"type\\\\\\\\\\\\\\\": 2, \\\\\\\\\\\\\\\"details\\\\\\\\\\\\\\\": {\\\\\\\\\\\\\\\"selectedColumn\\\\\\\\\\\\\\\": \\\\\\\\\\\\\\\"serum_creatinine\\\\\\\\\\\\\\\"}}, \\\\\\\\\\\\\\\"typeProperty\\\\\\\\\\\\\\\": 3}, {\\\\\\\\\\\\\\\"column\\\\\\\\\\\\\\\": {\\\\\\\\\\\\\\\"type\\\\\\\\\\\\\\\": 2, \\\\\\\\\\\\\\\"details\\\\\\\\\\\\\\\": {\\\\\\\\\\\\\\\"selectedColumn\\\\\\\\\\\\\\\": \\\\\\\\\\\\\\\"serum_sodium\\\\\\\\\\\\\\\"}}, \\\\\\\\\\\\\\\"typeProperty\\\\\\\\\\\\\\\": 2}, {\\\\\\\\\\\\\\\"column\\\\\\\\\\\\\\\": {\\\\\\\\\\\\\\\"type\\\\\\\\\\\\\\\": 2, \\\\\\\\\\\\\\\"details\\\\\\\\\\\\\\\": {\\\\\\\\\\\\\\\"selectedColumn\\\\\\\\\\\\\\\": \\\\\\\\\\\\\\\"sex\\\\\\\\\\\\\\\"}}, \\\\\\\\\\\\\\\"typeProperty\\\\\\\\\\\\\\\": 2}, {\\\\\\\\\\\\\\\"column\\\\\\\\\\\\\\\": {\\\\\\\\\\\\\\\"type\\\\\\\\\\\\\\\": 2, \\\\\\\\\\\\\\\"details\\\\\\\\\\\\\\\": {\\\\\\\\\\\\\\\"selectedColumn\\\\\\\\\\\\\\\": \\\\\\\\\\\\\\\"smoking\\\\\\\\\\\\\\\"}}, \\\\\\\\\\\\\\\"typeProperty\\\\\\\\\\\\\\\": 2}, {\\\\\\\\\\\\\\\"column\\\\\\\\\\\\\\\": {\\\\\\\\\\\\\\\"type\\\\\\\\\\\\\\\": 2, \\\\\\\\\\\\\\\"details\\\\\\\\\\\\\\\": {\\\\\\\\\\\\\\\"selectedColumn\\\\\\\\\\\\\\\": \\\\\\\\\\\\\\\"time\\\\\\\\\\\\\\\"}}, \\\\\\\\\\\\\\\"typeProperty\\\\\\\\\\\\\\\": 2}, {\\\\\\\\\\\\\\\"column\\\\\\\\\\\\\\\": {\\\\\\\\\\\\\\\"type\\\\\\\\\\\\\\\": 2, \\\\\\\\\\\\\\\"details\\\\\\\\\\\\\\\": {\\\\\\\\\\\\\\\"selectedColumn\\\\\\\\\\\\\\\": \\\\\\\\\\\\\\\"DEATH_EVENT\\\\\\\\\\\\\\\"}}, \\\\\\\\\\\\\\\"typeProperty\\\\\\\\\\\\\\\": 2}]}, \\\\\\\\\\\\\\\"localData\\\\\\\\\\\\\\\": {}, \\\\\\\\\\\\\\\"isEnabled\\\\\\\\\\\\\\\": true, \\\\\\\\\\\\\\\"name\\\\\\\\\\\\\\\": null, \\\\\\\\\\\\\\\"annotation\\\\\\\\\\\\\\\": null}], \\\\\\\\\\\\\\\"inspectors\\\\\\\\\\\\\\\": [], \\\\\\\\\\\\\\\"meta\\\\\\\\\\\\\\\": {\\\\\\\\\\\\\\\"savedDatasetId\\\\\\\\\\\\\\\": \\\\\\\\\\\\\\\"83238624-696f-4d02-bc9f-0ac2f038d041\\\\\\\\\\\\\\\", \\\\\\\\\\\\\\\"datasetType\\\\\\\\\\\\\\\": \\\\\\\\\\\\\\\"tabular\\\\\\\\\\\\\\\", \\\\\\\\\\\\\\\"subscriptionId\\\\\\\\\\\\\\\": \\\\\\\\\\\\\\\"aa7cf8e8-d23f-4bce-a7b9-1f0b4e0ac8ee\\\\\\\\\\\\\\\", \\\\\\\\\\\\\\\"workspaceId\\\\\\\\\\\\\\\": \\\\\\\\\\\\\\\"c9642124-602e-4e8b-84fb-afa91a8233e1\\\\\\\\\\\\\\\", \\\\\\\\\\\\\\\"workspaceLocation\\\\\\\\\\\\\\\": \\\\\\\\\\\\\\\"southcentralus\\\\\\\\\\\\\\\"}}\\\\\\\", \\\\\\\"activities\\\\\\\": 0}\", \"EnableSubsampling\": null, \"runTemplate\": \"AutoML\", \"azureml.runsource\": \"automl\", \"display_task_type\": \"classification\", \"dependencies_versions\": \"{\\\"azureml-widgets\\\": \\\"1.19.0\\\", \\\"azureml-train\\\": \\\"1.19.0\\\", \\\"azureml-train-restclients-hyperdrive\\\": \\\"1.19.0\\\", \\\"azureml-train-core\\\": \\\"1.19.0\\\", \\\"azureml-train-automl\\\": \\\"1.19.0\\\", \\\"azureml-train-automl-runtime\\\": \\\"1.19.0\\\", \\\"azureml-train-automl-client\\\": \\\"1.19.0\\\", \\\"azureml-tensorboard\\\": \\\"1.19.0\\\", \\\"azureml-telemetry\\\": \\\"1.19.0\\\", \\\"azureml-sdk\\\": \\\"1.19.0\\\", \\\"azureml-samples\\\": \\\"0+unknown\\\", \\\"azureml-pipeline\\\": \\\"1.19.0\\\", \\\"azureml-pipeline-steps\\\": \\\"1.19.0\\\", \\\"azureml-pipeline-core\\\": \\\"1.19.0\\\", \\\"azureml-opendatasets\\\": \\\"1.19.0\\\", \\\"azureml-model-management-sdk\\\": \\\"1.0.1b6.post1\\\", \\\"azureml-mlflow\\\": \\\"1.19.0\\\", \\\"azureml-interpret\\\": \\\"1.19.0\\\", \\\"azureml-explain-model\\\": \\\"1.19.0\\\", \\\"azureml-defaults\\\": \\\"1.19.0\\\", \\\"azureml-dataset-runtime\\\": \\\"1.19.0\\\", \\\"azureml-dataprep\\\": \\\"2.6.1\\\", \\\"azureml-dataprep-rslex\\\": \\\"1.4.0\\\", \\\"azureml-dataprep-native\\\": \\\"26.0.0\\\", \\\"azureml-datadrift\\\": \\\"1.19.0\\\", \\\"azureml-core\\\": \\\"1.19.0\\\", \\\"azureml-contrib-services\\\": \\\"1.19.0\\\", \\\"azureml-contrib-server\\\": \\\"1.19.0\\\", \\\"azureml-contrib-reinforcementlearning\\\": \\\"1.19.0\\\", \\\"azureml-contrib-pipeline-steps\\\": \\\"1.19.0\\\", \\\"azureml-contrib-notebook\\\": \\\"1.19.0\\\", \\\"azureml-contrib-interpret\\\": \\\"1.19.0\\\", \\\"azureml-contrib-gbdt\\\": \\\"1.19.0\\\", \\\"azureml-contrib-fairness\\\": \\\"1.19.0\\\", \\\"azureml-contrib-dataset\\\": \\\"1.19.0\\\", \\\"azureml-cli-common\\\": \\\"1.19.0\\\", \\\"azureml-automl-runtime\\\": \\\"1.19.0\\\", \\\"azureml-automl-core\\\": \\\"1.19.0\\\", \\\"azureml-accel-models\\\": \\\"1.19.0\\\"}\", \"_aml_system_scenario_identification\": \"Remote.Parent\", \"ClientType\": \"SDK\", \"environment_cpu_name\": \"AzureML-AutoML\", \"environment_cpu_label\": \"prod\", \"environment_gpu_name\": \"AzureML-AutoML-GPU\", \"environment_gpu_label\": \"prod\", \"root_attribution\": \"automl\", \"attribution\": \"AutoML\", \"Orchestrator\": \"AutoML\", \"CancelUri\": \"https://southcentralus.experiments.azureml.net/jasmine/v1.0/subscriptions/aa7cf8e8-d23f-4bce-a7b9-1f0b4e0ac8ee/resourceGroups/aml-quickstarts-131494/providers/Microsoft.MachineLearningServices/workspaces/quick-starts-ws-131494/experimentids/eb4e67fa-0caa-4329-98fa-c6777bfe584a/cancel/AutoML_4472f920-4aeb-4187-a1b1-38c1ee211fd5\", \"ClientSdkVersion\": \"1.19.0\", \"snapshotId\": \"00000000-0000-0000-0000-000000000000\", \"SetupRunId\": \"AutoML_4472f920-4aeb-4187-a1b1-38c1ee211fd5_setup\", \"SetupRunContainerId\": \"dcid.AutoML_4472f920-4aeb-4187-a1b1-38c1ee211fd5_setup\", \"FeaturizationRunJsonPath\": \"featurizer_container.json\", \"FeaturizationRunId\": \"AutoML_4472f920-4aeb-4187-a1b1-38c1ee211fd5_featurize\", \"ProblemInfoJsonString\": \"{\\\"dataset_num_categorical\\\": 0, \\\"is_sparse\\\": false, \\\"subsampling\\\": false, \\\"dataset_classes\\\": 2, \\\"dataset_features\\\": 12, \\\"dataset_samples\\\": 299, \\\"single_frequency_class_detected\\\": false}\", \"ModelExplainRunId\": \"AutoML_4472f920-4aeb-4187-a1b1-38c1ee211fd5_ModelExplain\"}, \"tags\": {\"model_explain_run\": \"best_run\", \"_aml_system_azureml.automlComponent\": \"AutoML\", \"pipeline_id\": \"\", \"score\": \"\", \"predicted_cost\": \"\", \"fit_time\": \"\", \"training_percent\": \"\", \"iteration\": \"\", \"run_preprocessor\": \"\", \"run_algorithm\": \"\", \"automl_best_child_run_id\": \"AutoML_4472f920-4aeb-4187-a1b1-38c1ee211fd5_23\", \"model_explain_best_run_child_id\": \"AutoML_4472f920-4aeb-4187-a1b1-38c1ee211fd5_23\"}, \"end_time_utc\": \"2020-12-23T17:40:52.689776Z\", \"status\": \"Completed\", \"log_files\": {}, \"log_groups\": [], \"run_duration\": \"0:38:45\"}, \"child_runs\": [{\"run_id\": \"AutoML_4472f920-4aeb-4187-a1b1-38c1ee211fd5_0\", \"run_number\": 5, \"metric\": null, \"status\": \"Completed\", \"run_type\": \"azureml.scriptrun\", \"training_percent\": \"100\", \"start_time\": \"2020-12-23T17:07:22.171444Z\", \"end_time\": \"2020-12-23T17:08:19.146369Z\", \"created_time\": \"2020-12-23T17:07:06.566046Z\", \"created_time_dt\": \"2020-12-23T17:07:06.566046Z\", \"duration\": \"0:01:12\", \"iteration\": \"0\", \"goal\": \"accuracy_max\", \"run_name\": \"MaxAbsScaler, LightGBM\", \"run_properties\": \"copy=True\", \"primary_metric\": 0.80252525, \"best_metric\": 0.80252525}, {\"run_id\": \"AutoML_4472f920-4aeb-4187-a1b1-38c1ee211fd5_1\", \"run_number\": 6, \"metric\": null, \"status\": \"Completed\", \"run_type\": \"azureml.scriptrun\", \"training_percent\": \"100\", \"start_time\": \"2020-12-23T17:08:31.939353Z\", \"end_time\": \"2020-12-23T17:09:35.262616Z\", \"created_time\": \"2020-12-23T17:08:20.670108Z\", \"created_time_dt\": \"2020-12-23T17:08:20.670108Z\", \"duration\": \"0:01:14\", \"iteration\": \"1\", \"goal\": \"accuracy_max\", \"run_name\": \"MaxAbsScaler, XGBoostClassifier\", \"run_properties\": \"copy=True\", \"primary_metric\": 0.81929293, \"best_metric\": 0.81929293}, {\"run_id\": \"AutoML_4472f920-4aeb-4187-a1b1-38c1ee211fd5_2\", \"run_number\": 7, \"metric\": null, \"status\": \"Completed\", \"run_type\": \"azureml.scriptrun\", \"training_percent\": \"100\", \"start_time\": \"2020-12-23T17:09:49.986607Z\", \"end_time\": \"2020-12-23T17:10:52.082157Z\", \"created_time\": \"2020-12-23T17:09:36.990639Z\", \"created_time_dt\": \"2020-12-23T17:09:36.990639Z\", \"duration\": \"0:01:15\", \"iteration\": \"2\", \"goal\": \"accuracy_max\", \"run_name\": \"MinMaxScaler, RandomForest\", \"run_properties\": \"copy=True, feature_range=(0, 1\", \"primary_metric\": 0.81925926, \"best_metric\": 0.81929293}, {\"run_id\": \"AutoML_4472f920-4aeb-4187-a1b1-38c1ee211fd5_3\", \"run_number\": 8, \"metric\": null, \"status\": \"Completed\", \"run_type\": \"azureml.scriptrun\", \"training_percent\": \"100\", \"start_time\": \"2020-12-23T17:11:08.42479Z\", \"end_time\": \"2020-12-23T17:12:10.90655Z\", \"created_time\": \"2020-12-23T17:10:54.207347Z\", \"created_time_dt\": \"2020-12-23T17:10:54.207347Z\", \"duration\": \"0:01:16\", \"iteration\": \"3\", \"goal\": \"accuracy_max\", \"run_name\": \"MinMaxScaler, RandomForest\", \"run_properties\": \"copy=True, feature_range=(0, 1\", \"primary_metric\": 0.82942761, \"best_metric\": 0.82942761}, {\"run_id\": \"AutoML_4472f920-4aeb-4187-a1b1-38c1ee211fd5_4\", \"run_number\": 9, \"metric\": null, \"status\": \"Completed\", \"run_type\": \"azureml.scriptrun\", \"training_percent\": \"100\", \"start_time\": \"2020-12-23T17:12:26.441604Z\", \"end_time\": \"2020-12-23T17:13:30.043671Z\", \"created_time\": \"2020-12-23T17:12:13.293712Z\", \"created_time_dt\": \"2020-12-23T17:12:13.293712Z\", \"duration\": \"0:01:16\", \"iteration\": \"4\", \"goal\": \"accuracy_max\", \"run_name\": \"MinMaxScaler, RandomForest\", \"run_properties\": \"copy=True, feature_range=(0, 1\", \"primary_metric\": 0.82929293, \"best_metric\": 0.82942761}, {\"run_id\": \"AutoML_4472f920-4aeb-4187-a1b1-38c1ee211fd5_5\", \"run_number\": 10, \"metric\": null, \"status\": \"Completed\", \"run_type\": \"azureml.scriptrun\", \"training_percent\": \"100\", \"start_time\": \"2020-12-23T17:13:44.727862Z\", \"end_time\": \"2020-12-23T17:14:41.128247Z\", \"created_time\": \"2020-12-23T17:13:33.698792Z\", \"created_time_dt\": \"2020-12-23T17:13:33.698792Z\", \"duration\": \"0:01:07\", \"iteration\": \"5\", \"goal\": \"accuracy_max\", \"run_name\": \"MinMaxScaler, SVM\", \"run_properties\": \"copy=True, feature_range=(0, 1\", \"primary_metric\": 0.71902357, \"best_metric\": 0.82942761}, {\"run_id\": \"AutoML_4472f920-4aeb-4187-a1b1-38c1ee211fd5_6\", \"run_number\": 11, \"metric\": null, \"status\": \"Completed\", \"run_type\": \"azureml.scriptrun\", \"training_percent\": \"100\", \"start_time\": \"2020-12-23T17:14:59.253707Z\", \"end_time\": \"2020-12-23T17:16:13.088348Z\", \"created_time\": \"2020-12-23T17:14:43.375987Z\", \"created_time_dt\": \"2020-12-23T17:14:43.375987Z\", \"duration\": \"0:01:29\", \"iteration\": \"6\", \"goal\": \"accuracy_max\", \"run_name\": \"MaxAbsScaler, GradientBoosting\", \"run_properties\": \"copy=True\", \"primary_metric\": 0.82936027, \"best_metric\": 0.82942761}, {\"run_id\": \"AutoML_4472f920-4aeb-4187-a1b1-38c1ee211fd5_7\", \"run_number\": 12, \"metric\": null, \"status\": \"Completed\", \"run_type\": \"azureml.scriptrun\", \"training_percent\": \"100\", \"start_time\": \"2020-12-23T17:16:27.722993Z\", \"end_time\": \"2020-12-23T17:17:33.074846Z\", \"created_time\": \"2020-12-23T17:16:15.562699Z\", \"created_time_dt\": \"2020-12-23T17:16:15.562699Z\", \"duration\": \"0:01:17\", \"iteration\": \"7\", \"goal\": \"accuracy_max\", \"run_name\": \"StandardScalerWrapper, RandomForest\", \"run_properties\": \"<azureml.automl.runtime.shared.model_wrappers.StandardScalerWrapper object at 0x7f1e4e5a3668\", \"primary_metric\": 0.82599327, \"best_metric\": 0.82942761}, {\"run_id\": \"AutoML_4472f920-4aeb-4187-a1b1-38c1ee211fd5_8\", \"run_number\": 13, \"metric\": null, \"status\": \"Completed\", \"run_type\": \"azureml.scriptrun\", \"training_percent\": \"100\", \"start_time\": \"2020-12-23T17:17:54.786175Z\", \"end_time\": \"2020-12-23T17:19:07.39924Z\", \"created_time\": \"2020-12-23T17:17:36.766439Z\", \"created_time_dt\": \"2020-12-23T17:17:36.766439Z\", \"duration\": \"0:01:30\", \"iteration\": \"8\", \"goal\": \"accuracy_max\", \"run_name\": \"SparseNormalizer, XGBoostClassifier\", \"run_properties\": \"<azureml.automl.runtime.shared.model_wrappers.SparseNormalizer object at 0x7f67d2e98630\", \"primary_metric\": 0.80939394, \"best_metric\": 0.82942761}, {\"run_id\": \"AutoML_4472f920-4aeb-4187-a1b1-38c1ee211fd5_9\", \"run_number\": 14, \"metric\": null, \"status\": \"Completed\", \"run_type\": \"azureml.scriptrun\", \"training_percent\": \"100\", \"start_time\": \"2020-12-23T17:19:20.345341Z\", \"end_time\": \"2020-12-23T17:20:26.13563Z\", \"created_time\": \"2020-12-23T17:19:09.333206Z\", \"created_time_dt\": \"2020-12-23T17:19:09.333206Z\", \"duration\": \"0:01:16\", \"iteration\": \"9\", \"goal\": \"accuracy_max\", \"run_name\": \"SparseNormalizer, LightGBM\", \"run_properties\": \"<azureml.automl.runtime.shared.model_wrappers.SparseNormalizer object at 0x7f7b26be7908\", \"primary_metric\": 0.80919192, \"best_metric\": 0.82942761}, {\"run_id\": \"AutoML_4472f920-4aeb-4187-a1b1-38c1ee211fd5_10\", \"run_number\": 15, \"metric\": null, \"status\": \"Completed\", \"run_type\": \"azureml.scriptrun\", \"training_percent\": \"100\", \"start_time\": \"2020-12-23T17:20:39.717316Z\", \"end_time\": \"2020-12-23T17:21:39.000394Z\", \"created_time\": \"2020-12-23T17:20:28.474772Z\", \"created_time_dt\": \"2020-12-23T17:20:28.474772Z\", \"duration\": \"0:01:10\", \"iteration\": \"10\", \"goal\": \"accuracy_max\", \"run_name\": \"RobustScaler, RandomForest\", \"run_properties\": \"copy=True, quantile_range=[10, 90], with_centering=True,\\n             with_scaling=True\", \"primary_metric\": 0.8393266, \"best_metric\": 0.8393266}, {\"run_id\": \"AutoML_4472f920-4aeb-4187-a1b1-38c1ee211fd5_11\", \"run_number\": 16, \"metric\": null, \"status\": \"Completed\", \"run_type\": \"azureml.scriptrun\", \"training_percent\": \"100\", \"start_time\": \"2020-12-23T17:21:52.701993Z\", \"end_time\": \"2020-12-23T17:22:52.169047Z\", \"created_time\": \"2020-12-23T17:21:41.284676Z\", \"created_time_dt\": \"2020-12-23T17:21:41.284676Z\", \"duration\": \"0:01:10\", \"iteration\": \"11\", \"goal\": \"accuracy_max\", \"run_name\": \"RobustScaler, ExtremeRandomTrees\", \"run_properties\": \"copy=True, quantile_range=[25, 75], with_centering=True,\\n             with_scaling=False\", \"primary_metric\": 0.84272727, \"best_metric\": 0.84272727}, {\"run_id\": \"AutoML_4472f920-4aeb-4187-a1b1-38c1ee211fd5_12\", \"run_number\": 17, \"metric\": null, \"status\": \"Completed\", \"run_type\": \"azureml.scriptrun\", \"training_percent\": \"100\", \"start_time\": \"2020-12-23T17:23:08.407199Z\", \"end_time\": \"2020-12-23T17:24:12.276764Z\", \"created_time\": \"2020-12-23T17:22:54.575626Z\", \"created_time_dt\": \"2020-12-23T17:22:54.575626Z\", \"duration\": \"0:01:17\", \"iteration\": \"12\", \"goal\": \"accuracy_max\", \"run_name\": \"MaxAbsScaler, LightGBM\", \"run_properties\": \"copy=True\", \"primary_metric\": 0.81925926, \"best_metric\": 0.84272727}, {\"run_id\": \"AutoML_4472f920-4aeb-4187-a1b1-38c1ee211fd5_13\", \"run_number\": 18, \"metric\": null, \"status\": \"Completed\", \"run_type\": \"azureml.scriptrun\", \"training_percent\": \"100\", \"start_time\": \"2020-12-23T17:24:32.026501Z\", \"end_time\": \"2020-12-23T17:25:35.903134Z\", \"created_time\": \"2020-12-23T17:24:15.065946Z\", \"created_time_dt\": \"2020-12-23T17:24:15.065946Z\", \"duration\": \"0:01:20\", \"iteration\": \"13\", \"goal\": \"accuracy_max\", \"run_name\": \"SparseNormalizer, XGBoostClassifier\", \"run_properties\": \"<azureml.automl.runtime.shared.model_wrappers.SparseNormalizer object at 0x7ff7c63a1860\", \"primary_metric\": 0.81606061, \"best_metric\": 0.84272727}, {\"run_id\": \"AutoML_4472f920-4aeb-4187-a1b1-38c1ee211fd5_14\", \"run_number\": 19, \"metric\": null, \"status\": \"Completed\", \"run_type\": \"azureml.scriptrun\", \"training_percent\": \"100\", \"start_time\": \"2020-12-23T17:25:51.622616Z\", \"end_time\": \"2020-12-23T17:27:03.828184Z\", \"created_time\": \"2020-12-23T17:25:39.729726Z\", \"created_time_dt\": \"2020-12-23T17:25:39.729726Z\", \"duration\": \"0:01:24\", \"iteration\": \"14\", \"goal\": \"accuracy_max\", \"run_name\": \"StandardScalerWrapper, ExtremeRandomTrees\", \"run_properties\": \"<azureml.automl.runtime.shared.model_wrappers.StandardScalerWrapper object at 0x7f1395e016d8\", \"primary_metric\": 0.82606061, \"best_metric\": 0.84272727}, {\"run_id\": \"AutoML_4472f920-4aeb-4187-a1b1-38c1ee211fd5_15\", \"run_number\": 20, \"metric\": null, \"status\": \"Completed\", \"run_type\": \"azureml.scriptrun\", \"training_percent\": \"100\", \"start_time\": \"2020-12-23T17:27:22.937923Z\", \"end_time\": \"2020-12-23T17:28:21.927629Z\", \"created_time\": \"2020-12-23T17:27:07.180421Z\", \"created_time_dt\": \"2020-12-23T17:27:07.180421Z\", \"duration\": \"0:01:14\", \"iteration\": \"15\", \"goal\": \"accuracy_max\", \"run_name\": \"StandardScalerWrapper, XGBoostClassifier\", \"run_properties\": \"<azureml.automl.runtime.shared.model_wrappers.StandardScalerWrapper object at 0x7fa6deedcb70\", \"primary_metric\": 0.8293266, \"best_metric\": 0.84272727}, {\"run_id\": \"AutoML_4472f920-4aeb-4187-a1b1-38c1ee211fd5_16\", \"run_number\": 21, \"metric\": null, \"status\": \"Completed\", \"run_type\": \"azureml.scriptrun\", \"training_percent\": \"100\", \"start_time\": \"2020-12-23T17:28:36.138474Z\", \"end_time\": \"2020-12-23T17:29:31.062309Z\", \"created_time\": \"2020-12-23T17:28:23.719819Z\", \"created_time_dt\": \"2020-12-23T17:28:23.719819Z\", \"duration\": \"0:01:07\", \"iteration\": \"16\", \"goal\": \"accuracy_max\", \"run_name\": \"StandardScalerWrapper, GradientBoosting\", \"run_properties\": \"<azureml.automl.runtime.shared.model_wrappers.StandardScalerWrapper object at 0x7f5d8b2de400\", \"primary_metric\": 0.8193266, \"best_metric\": 0.84272727}, {\"run_id\": \"AutoML_4472f920-4aeb-4187-a1b1-38c1ee211fd5_17\", \"run_number\": 22, \"metric\": null, \"status\": \"Completed\", \"run_type\": \"azureml.scriptrun\", \"training_percent\": \"100\", \"start_time\": \"2020-12-23T17:29:45.263257Z\", \"end_time\": \"2020-12-23T17:30:38.544973Z\", \"created_time\": \"2020-12-23T17:29:33.542819Z\", \"created_time_dt\": \"2020-12-23T17:29:33.542819Z\", \"duration\": \"0:01:05\", \"iteration\": \"17\", \"goal\": \"accuracy_max\", \"run_name\": \"StandardScalerWrapper, ExtremeRandomTrees\", \"run_properties\": \"<azureml.automl.runtime.shared.model_wrappers.StandardScalerWrapper object at 0x7fd2d0146e80\", \"primary_metric\": 0.75249158, \"best_metric\": 0.84272727}, {\"run_id\": \"AutoML_4472f920-4aeb-4187-a1b1-38c1ee211fd5_18\", \"run_number\": 23, \"metric\": null, \"status\": \"Completed\", \"run_type\": \"azureml.scriptrun\", \"training_percent\": \"100\", \"start_time\": \"2020-12-23T17:30:52.791724Z\", \"end_time\": \"2020-12-23T17:31:56.568474Z\", \"created_time\": \"2020-12-23T17:30:40.274617Z\", \"created_time_dt\": \"2020-12-23T17:30:40.274617Z\", \"duration\": \"0:01:16\", \"iteration\": \"18\", \"goal\": \"accuracy_max\", \"run_name\": \"RobustScaler, ExtremeRandomTrees\", \"run_properties\": \"copy=True, quantile_range=[25, 75], with_centering=True,\\n             with_scaling=True\", \"primary_metric\": 0.83949495, \"best_metric\": 0.84272727}, {\"run_id\": \"AutoML_4472f920-4aeb-4187-a1b1-38c1ee211fd5_19\", \"run_number\": 24, \"metric\": null, \"status\": \"Completed\", \"run_type\": \"azureml.scriptrun\", \"training_percent\": \"100\", \"start_time\": \"2020-12-23T17:32:13.868957Z\", \"end_time\": \"2020-12-23T17:33:15.89861Z\", \"created_time\": \"2020-12-23T17:31:58.421006Z\", \"created_time_dt\": \"2020-12-23T17:31:58.421006Z\", \"duration\": \"0:01:17\", \"iteration\": \"19\", \"goal\": \"accuracy_max\", \"run_name\": \"StandardScalerWrapper, XGBoostClassifier\", \"run_properties\": \"<azureml.automl.runtime.shared.model_wrappers.StandardScalerWrapper object at 0x7fb1c8044550\", \"primary_metric\": 0.8326936, \"best_metric\": 0.84272727}, {\"run_id\": \"AutoML_4472f920-4aeb-4187-a1b1-38c1ee211fd5_20\", \"run_number\": 25, \"metric\": null, \"status\": \"Completed\", \"run_type\": \"azureml.scriptrun\", \"training_percent\": \"100\", \"start_time\": \"2020-12-23T17:33:29.08563Z\", \"end_time\": \"2020-12-23T17:34:28.374803Z\", \"created_time\": \"2020-12-23T17:33:18.621677Z\", \"created_time_dt\": \"2020-12-23T17:33:18.621677Z\", \"duration\": \"0:01:09\", \"iteration\": \"20\", \"goal\": \"accuracy_max\", \"run_name\": \"StandardScalerWrapper, LightGBM\", \"run_properties\": \"<azureml.automl.runtime.shared.model_wrappers.StandardScalerWrapper object at 0x7f1fb871ce48\", \"primary_metric\": 0.8293266, \"best_metric\": 0.84272727}, {\"run_id\": \"AutoML_4472f920-4aeb-4187-a1b1-38c1ee211fd5_21\", \"run_number\": 26, \"metric\": null, \"status\": \"Completed\", \"run_type\": \"azureml.scriptrun\", \"training_percent\": \"100\", \"start_time\": \"2020-12-23T17:34:47.884491Z\", \"end_time\": \"2020-12-23T17:35:47.541501Z\", \"created_time\": \"2020-12-23T17:34:30.310882Z\", \"created_time_dt\": \"2020-12-23T17:34:30.310882Z\", \"duration\": \"0:01:17\", \"iteration\": \"21\", \"goal\": \"accuracy_max\", \"run_name\": \"SparseNormalizer, RandomForest\", \"run_properties\": \"<azureml.automl.runtime.shared.model_wrappers.SparseNormalizer object at 0x7f47c94864e0\", \"primary_metric\": 0.77582492, \"best_metric\": 0.84272727}, {\"run_id\": \"AutoML_4472f920-4aeb-4187-a1b1-38c1ee211fd5_22\", \"run_number\": 27, \"metric\": null, \"status\": \"Canceled\", \"run_type\": \"azureml.scriptrun\", \"training_percent\": \"100\", \"start_time\": \"2020-12-23T17:36:43.203997Z\", \"end_time\": \"2020-12-23T17:37:21.884098Z\", \"created_time\": \"2020-12-23T17:36:21.579386Z\", \"created_time_dt\": \"2020-12-23T17:36:21.579386Z\", \"duration\": \"0:01:00\", \"iteration\": \"22\", \"goal\": null, \"run_name\": \"Canceled\", \"run_properties\": null}, {\"run_id\": \"AutoML_4472f920-4aeb-4187-a1b1-38c1ee211fd5_23\", \"run_number\": 28, \"metric\": null, \"status\": \"Completed\", \"run_type\": \"azureml.scriptrun\", \"training_percent\": \"100\", \"start_time\": \"2020-12-23T17:37:36.948993Z\", \"end_time\": \"2020-12-23T17:39:01.369805Z\", \"created_time\": \"2020-12-23T17:37:23.86076Z\", \"created_time_dt\": \"2020-12-23T17:37:23.86076Z\", \"duration\": \"0:01:37\", \"iteration\": \"23\", \"goal\": \"accuracy_max\", \"run_name\": \"VotingEnsemble\", \"run_properties\": \"classification_labels=None,\\n                              estimators=[('11',\\n                                           Pipeline(memory=None,\\n                                                    steps=[('robustscaler',\\n                                                            RobustScaler(copy=True,\\n                                                                         quantile_range=[25,\\n                                                                                         75],\\n                                                                         with_centering=True,\\n                                                                         with_scaling=False\", \"primary_metric\": 0.85952862, \"best_metric\": 0.85952862}, {\"run_id\": \"AutoML_4472f920-4aeb-4187-a1b1-38c1ee211fd5_24\", \"run_number\": 29, \"metric\": null, \"status\": \"Completed\", \"run_type\": \"azureml.scriptrun\", \"training_percent\": \"100\", \"start_time\": \"2020-12-23T17:39:24.601523Z\", \"end_time\": \"2020-12-23T17:40:41.701413Z\", \"created_time\": \"2020-12-23T17:39:03.450534Z\", \"created_time_dt\": \"2020-12-23T17:39:03.450534Z\", \"duration\": \"0:01:38\", \"iteration\": \"24\", \"goal\": \"accuracy_max\", \"run_name\": \"StackEnsemble\", \"run_properties\": \"base_learners=[('11',\\n                                        Pipeline(memory=None,\\n                                                 steps=[('robustscaler',\\n                                                         RobustScaler(copy=True,\\n                                                                      quantile_range=[25,\\n                                                                                      75],\\n                                                                      with_centering=True,\\n                                                                      with_scaling=False\", \"primary_metric\": 0.82589226, \"best_metric\": 0.85952862}], \"children_metrics\": {\"categories\": [0], \"series\": {\"f1_score_macro\": [{\"categories\": [\"0\", \"1\", \"2\", \"3\", \"4\", \"5\", \"6\", \"7\", \"8\", \"9\", \"10\", \"11\", \"12\", \"13\", \"14\", \"15\", \"16\", \"17\", \"18\", \"19\", \"20\", \"21\", \"23\", \"24\"], \"mode\": \"markers\", \"name\": \"f1_score_macro\", \"stepped\": false, \"type\": \"scatter\", \"data\": [0.7670520318568558, 0.7892216866138503, 0.7892778444829105, 0.7930929500904709, 0.8028344649487079, 0.6150410127259145, 0.7996521147448249, 0.793505918084262, 0.7706948901564097, 0.7682423345883111, 0.8099834987445081, 0.8040090043674462, 0.7685720820222168, 0.7809103257894829, 0.779648984301795, 0.7912961881738177, 0.7840555320368425, 0.6363940574750709, 0.7973588890142967, 0.7994923686931007, 0.7975570883404742, 0.755028315160278, 0.8297084365390162, 0.799302756594846]}, {\"categories\": [\"0\", \"1\", \"2\", \"3\", \"4\", \"5\", \"6\", \"7\", \"8\", \"9\", \"10\", \"11\", \"12\", \"13\", \"14\", \"15\", \"16\", \"17\", \"18\", \"19\", \"20\", \"21\", \"23\", \"24\"], \"mode\": \"lines\", \"name\": \"f1_score_macro_max\", \"stepped\": true, \"type\": \"scatter\", \"data\": [0.7670520318568558, 0.7892216866138503, 0.7892778444829105, 0.7930929500904709, 0.8028344649487079, 0.8028344649487079, 0.8028344649487079, 0.8028344649487079, 0.8028344649487079, 0.8028344649487079, 0.8099834987445081, 0.8099834987445081, 0.8099834987445081, 0.8099834987445081, 0.8099834987445081, 0.8099834987445081, 0.8099834987445081, 0.8099834987445081, 0.8099834987445081, 0.8099834987445081, 0.8099834987445081, 0.8099834987445081, 0.8297084365390162, 0.8297084365390162]}], \"recall_score_micro\": [{\"categories\": [\"0\", \"1\", \"2\", \"3\", \"4\", \"5\", \"6\", \"7\", \"8\", \"9\", \"10\", \"11\", \"12\", \"13\", \"14\", \"15\", \"16\", \"17\", \"18\", \"19\", \"20\", \"21\", \"23\", \"24\"], \"mode\": \"markers\", \"name\": \"recall_score_micro\", \"stepped\": false, \"type\": \"scatter\", \"data\": [0.8025252525252524, 0.8192929292929293, 0.8192592592592592, 0.8294276094276095, 0.8292929292929293, 0.719023569023569, 0.8293602693602694, 0.8259932659932661, 0.8093939393939394, 0.8091919191919192, 0.8393265993265994, 0.8427272727272728, 0.8192592592592592, 0.816060606060606, 0.8260606060606062, 0.8293265993265994, 0.8193265993265992, 0.7524915824915825, 0.8394949494949495, 0.8326936026936026, 0.8293265993265994, 0.7758249158249159, 0.8595286195286196, 0.8258922558922559]}, {\"categories\": [\"0\", \"1\", \"2\", \"3\", \"4\", \"5\", \"6\", \"7\", \"8\", \"9\", \"10\", \"11\", \"12\", \"13\", \"14\", \"15\", \"16\", \"17\", \"18\", \"19\", \"20\", \"21\", \"23\", \"24\"], \"mode\": \"lines\", \"name\": \"recall_score_micro_max\", \"stepped\": true, \"type\": \"scatter\", \"data\": [0.8025252525252524, 0.8192929292929293, 0.8192929292929293, 0.8294276094276095, 0.8294276094276095, 0.8294276094276095, 0.8294276094276095, 0.8294276094276095, 0.8294276094276095, 0.8294276094276095, 0.8393265993265994, 0.8427272727272728, 0.8427272727272728, 0.8427272727272728, 0.8427272727272728, 0.8427272727272728, 0.8427272727272728, 0.8427272727272728, 0.8427272727272728, 0.8427272727272728, 0.8427272727272728, 0.8427272727272728, 0.8595286195286196, 0.8595286195286196]}], \"log_loss\": [{\"categories\": [\"0\", \"1\", \"2\", \"3\", \"4\", \"5\", \"6\", \"7\", \"8\", \"9\", \"10\", \"11\", \"12\", \"13\", \"14\", \"15\", \"16\", \"17\", \"18\", \"19\", \"20\", \"21\", \"23\", \"24\"], \"mode\": \"markers\", \"name\": \"log_loss\", \"stepped\": false, \"type\": \"scatter\", \"data\": [0.5791360620615199, 0.4649911805096085, 0.4031527869673764, 0.4208430357652177, 0.4024950504637789, 0.5679465596747557, 0.3896511879375078, 0.41155772153950315, 0.4336877632946468, 0.43630390615552034, 0.39661147434913446, 0.4415760282938422, 0.45181553247186795, 0.4848889514346584, 0.45781362860374325, 0.46928221762332695, 0.4912340156148181, 0.5141013744765105, 0.4470241600116935, 0.43170627521395244, 0.41069905004829405, 0.4667093288179724, 0.4159073133592268, 0.4934350764283035]}, {\"categories\": [\"0\", \"1\", \"2\", \"3\", \"4\", \"5\", \"6\", \"7\", \"8\", \"9\", \"10\", \"11\", \"12\", \"13\", \"14\", \"15\", \"16\", \"17\", \"18\", \"19\", \"20\", \"21\", \"23\", \"24\"], \"mode\": \"lines\", \"name\": \"log_loss_min\", \"stepped\": true, \"type\": \"scatter\", \"data\": [0.5791360620615199, 0.4649911805096085, 0.4031527869673764, 0.4031527869673764, 0.4024950504637789, 0.4024950504637789, 0.3896511879375078, 0.3896511879375078, 0.3896511879375078, 0.3896511879375078, 0.3896511879375078, 0.3896511879375078, 0.3896511879375078, 0.3896511879375078, 0.3896511879375078, 0.3896511879375078, 0.3896511879375078, 0.3896511879375078, 0.3896511879375078, 0.3896511879375078, 0.3896511879375078, 0.3896511879375078, 0.3896511879375078, 0.3896511879375078]}], \"weighted_accuracy\": [{\"categories\": [\"0\", \"1\", \"2\", \"3\", \"4\", \"5\", \"6\", \"7\", \"8\", \"9\", \"10\", \"11\", \"12\", \"13\", \"14\", \"15\", \"16\", \"17\", \"18\", \"19\", \"20\", \"21\", \"23\", \"24\"], \"mode\": \"markers\", \"name\": \"weighted_accuracy\", \"stepped\": false, \"type\": \"scatter\", \"data\": [0.8310099034285422, 0.8426543037328149, 0.8410990430898626, 0.8634832199839905, 0.849415120842535, 0.798745155591762, 0.8516612177295872, 0.8551614643540475, 0.8451312340618644, 0.8485035877019725, 0.8659876897487596, 0.8835379469553885, 0.8714597355760635, 0.8465257639803268, 0.8731582360989396, 0.8651533850183585, 0.8515353268795102, 0.8428849852706567, 0.8858675149132731, 0.8642932681337595, 0.8570562201697417, 0.778533449028339, 0.8897873448195064, 0.8443426007222988]}, {\"categories\": [\"0\", \"1\", \"2\", \"3\", \"4\", \"5\", \"6\", \"7\", \"8\", \"9\", \"10\", \"11\", \"12\", \"13\", \"14\", \"15\", \"16\", \"17\", \"18\", \"19\", \"20\", \"21\", \"23\", \"24\"], \"mode\": \"lines\", \"name\": \"weighted_accuracy_max\", \"stepped\": true, \"type\": \"scatter\", \"data\": [0.8310099034285422, 0.8426543037328149, 0.8426543037328149, 0.8634832199839905, 0.8634832199839905, 0.8634832199839905, 0.8634832199839905, 0.8634832199839905, 0.8634832199839905, 0.8634832199839905, 0.8659876897487596, 0.8835379469553885, 0.8835379469553885, 0.8835379469553885, 0.8835379469553885, 0.8835379469553885, 0.8835379469553885, 0.8835379469553885, 0.8858675149132731, 0.8858675149132731, 0.8858675149132731, 0.8858675149132731, 0.8897873448195064, 0.8897873448195064]}], \"average_precision_score_weighted\": [{\"categories\": [\"0\", \"1\", \"2\", \"3\", \"4\", \"5\", \"6\", \"7\", \"8\", \"9\", \"10\", \"11\", \"12\", \"13\", \"14\", \"15\", \"16\", \"17\", \"18\", \"19\", \"20\", \"21\", \"23\", \"24\"], \"mode\": \"markers\", \"name\": \"average_precision_score_weighted\", \"stepped\": false, \"type\": \"scatter\", \"data\": [0.8648843990393956, 0.8836277505100775, 0.8992556364479203, 0.8892424263590663, 0.8968548759137939, 0.7692824684680278, 0.902447155043416, 0.9055942844744406, 0.8853675811007778, 0.8722098476939625, 0.9066967675293389, 0.8770104829126056, 0.8881242991473751, 0.8624339762603066, 0.8795585446436225, 0.9019173401015835, 0.8681431605011879, 0.8627953120108903, 0.8794908827280176, 0.8974101181849705, 0.8834261028520093, 0.8559429543149101, 0.9031371430527679, 0.8796460369986101]}, {\"categories\": [\"0\", \"1\", \"2\", \"3\", \"4\", \"5\", \"6\", \"7\", \"8\", \"9\", \"10\", \"11\", \"12\", \"13\", \"14\", \"15\", \"16\", \"17\", \"18\", \"19\", \"20\", \"21\", \"23\", \"24\"], \"mode\": \"lines\", \"name\": \"average_precision_score_weighted_max\", \"stepped\": true, \"type\": \"scatter\", \"data\": [0.8648843990393956, 0.8836277505100775, 0.8992556364479203, 0.8992556364479203, 0.8992556364479203, 0.8992556364479203, 0.902447155043416, 0.9055942844744406, 0.9055942844744406, 0.9055942844744406, 0.9066967675293389, 0.9066967675293389, 0.9066967675293389, 0.9066967675293389, 0.9066967675293389, 0.9066967675293389, 0.9066967675293389, 0.9066967675293389, 0.9066967675293389, 0.9066967675293389, 0.9066967675293389, 0.9066967675293389, 0.9066967675293389, 0.9066967675293389]}], \"balanced_accuracy\": [{\"categories\": [\"0\", \"1\", \"2\", \"3\", \"4\", \"5\", \"6\", \"7\", \"8\", \"9\", \"10\", \"11\", \"12\", \"13\", \"14\", \"15\", \"16\", \"17\", \"18\", \"19\", \"20\", \"21\", \"23\", \"24\"], \"mode\": \"markers\", \"name\": \"balanced_accuracy\", \"stepped\": false, \"type\": \"scatter\", \"data\": [0.7665542389680322, 0.7899604037535072, 0.792974748147162, 0.7856018580156512, 0.8039300384127971, 0.6140379295551709, 0.8020495865323451, 0.7889022026953061, 0.7634839272770307, 0.7579700390045216, 0.8060178405005991, 0.7899004916246296, 0.7507014403566128, 0.7776308328032465, 0.765275867000005, 0.783286735010873, 0.7783201921132955, 0.6333429488601902, 0.7792383516521447, 0.7927831772659358, 0.7940016371050854, 0.7736253494874186, 0.8213546058373645, 0.804469001020725]}, {\"categories\": [\"0\", \"1\", \"2\", \"3\", \"4\", \"5\", \"6\", \"7\", \"8\", \"9\", \"10\", \"11\", \"12\", \"13\", \"14\", \"15\", \"16\", \"17\", \"18\", \"19\", \"20\", \"21\", \"23\", \"24\"], \"mode\": \"lines\", \"name\": \"balanced_accuracy_max\", \"stepped\": true, \"type\": \"scatter\", \"data\": [0.7665542389680322, 0.7899604037535072, 0.792974748147162, 0.792974748147162, 0.8039300384127971, 0.8039300384127971, 0.8039300384127971, 0.8039300384127971, 0.8039300384127971, 0.8039300384127971, 0.8060178405005991, 0.8060178405005991, 0.8060178405005991, 0.8060178405005991, 0.8060178405005991, 0.8060178405005991, 0.8060178405005991, 0.8060178405005991, 0.8060178405005991, 0.8060178405005991, 0.8060178405005991, 0.8060178405005991, 0.8213546058373645, 0.8213546058373645]}], \"accuracy\": [{\"categories\": [\"0\", \"1\", \"2\", \"3\", \"4\", \"5\", \"6\", \"7\", \"8\", \"9\", \"10\", \"11\", \"12\", \"13\", \"14\", \"15\", \"16\", \"17\", \"18\", \"19\", \"20\", \"21\", \"23\", \"24\"], \"mode\": \"markers\", \"name\": \"accuracy\", \"stepped\": false, \"type\": \"scatter\", \"data\": [0.8025252525252524, 0.8192929292929293, 0.8192592592592592, 0.8294276094276095, 0.8292929292929293, 0.719023569023569, 0.8293602693602694, 0.8259932659932661, 0.8093939393939394, 0.8091919191919192, 0.8393265993265994, 0.8427272727272728, 0.8192592592592592, 0.816060606060606, 0.8260606060606062, 0.8293265993265994, 0.8193265993265992, 0.7524915824915825, 0.8394949494949495, 0.8326936026936026, 0.8293265993265994, 0.7758249158249159, 0.8595286195286196, 0.8258922558922559]}, {\"categories\": [\"0\", \"1\", \"2\", \"3\", \"4\", \"5\", \"6\", \"7\", \"8\", \"9\", \"10\", \"11\", \"12\", \"13\", \"14\", \"15\", \"16\", \"17\", \"18\", \"19\", \"20\", \"21\", \"23\", \"24\"], \"mode\": \"lines\", \"name\": \"accuracy_max\", \"stepped\": true, \"type\": \"scatter\", \"data\": [0.8025252525252524, 0.8192929292929293, 0.8192929292929293, 0.8294276094276095, 0.8294276094276095, 0.8294276094276095, 0.8294276094276095, 0.8294276094276095, 0.8294276094276095, 0.8294276094276095, 0.8393265993265994, 0.8427272727272728, 0.8427272727272728, 0.8427272727272728, 0.8427272727272728, 0.8427272727272728, 0.8427272727272728, 0.8427272727272728, 0.8427272727272728, 0.8427272727272728, 0.8427272727272728, 0.8427272727272728, 0.8595286195286196, 0.8595286195286196]}], \"recall_score_weighted\": [{\"categories\": [\"0\", \"1\", \"2\", \"3\", \"4\", \"5\", \"6\", \"7\", \"8\", \"9\", \"10\", \"11\", \"12\", \"13\", \"14\", \"15\", \"16\", \"17\", \"18\", \"19\", \"20\", \"21\", \"23\", \"24\"], \"mode\": \"markers\", \"name\": \"recall_score_weighted\", \"stepped\": false, \"type\": \"scatter\", \"data\": [0.8025252525252524, 0.8192929292929293, 0.8192592592592592, 0.8294276094276095, 0.8292929292929293, 0.719023569023569, 0.8293602693602694, 0.8259932659932661, 0.8093939393939394, 0.8091919191919192, 0.8393265993265994, 0.8427272727272728, 0.8192592592592592, 0.816060606060606, 0.8260606060606062, 0.8293265993265994, 0.8193265993265992, 0.7524915824915825, 0.8394949494949495, 0.8326936026936026, 0.8293265993265994, 0.7758249158249159, 0.8595286195286196, 0.8258922558922559]}, {\"categories\": [\"0\", \"1\", \"2\", \"3\", \"4\", \"5\", \"6\", \"7\", \"8\", \"9\", \"10\", \"11\", \"12\", \"13\", \"14\", \"15\", \"16\", \"17\", \"18\", \"19\", \"20\", \"21\", \"23\", \"24\"], \"mode\": \"lines\", \"name\": \"recall_score_weighted_max\", \"stepped\": true, \"type\": \"scatter\", \"data\": [0.8025252525252524, 0.8192929292929293, 0.8192929292929293, 0.8294276094276095, 0.8294276094276095, 0.8294276094276095, 0.8294276094276095, 0.8294276094276095, 0.8294276094276095, 0.8294276094276095, 0.8393265993265994, 0.8427272727272728, 0.8427272727272728, 0.8427272727272728, 0.8427272727272728, 0.8427272727272728, 0.8427272727272728, 0.8427272727272728, 0.8427272727272728, 0.8427272727272728, 0.8427272727272728, 0.8427272727272728, 0.8595286195286196, 0.8595286195286196]}], \"AUC_macro\": [{\"categories\": [\"0\", \"1\", \"2\", \"3\", \"4\", \"5\", \"6\", \"7\", \"8\", \"9\", \"10\", \"11\", \"12\", \"13\", \"14\", \"15\", \"16\", \"17\", \"18\", \"19\", \"20\", \"21\", \"23\", \"24\"], \"mode\": \"markers\", \"name\": \"AUC_macro\", \"stepped\": false, \"type\": \"scatter\", \"data\": [0.8550287233045853, 0.875938401455643, 0.8931165155303086, 0.8823031898893968, 0.8921282859213893, 0.7413663663663664, 0.8964682416406554, 0.9009251123044226, 0.8720135899446243, 0.8573723477171753, 0.898298594160663, 0.8635940373871408, 0.8786053541225955, 0.8537696070454691, 0.864316040178109, 0.8906397037431519, 0.859264929954585, 0.8524159627607903, 0.8638130248475075, 0.8927709975985838, 0.8747607706228395, 0.8463172532138049, 0.8949251221665016, 0.875995650823237]}, {\"categories\": [\"0\", \"1\", \"2\", \"3\", \"4\", \"5\", \"6\", \"7\", \"8\", \"9\", \"10\", \"11\", \"12\", \"13\", \"14\", \"15\", \"16\", \"17\", \"18\", \"19\", \"20\", \"21\", \"23\", \"24\"], \"mode\": \"lines\", \"name\": \"AUC_macro_max\", \"stepped\": true, \"type\": \"scatter\", \"data\": [0.8550287233045853, 0.875938401455643, 0.8931165155303086, 0.8931165155303086, 0.8931165155303086, 0.8931165155303086, 0.8964682416406554, 0.9009251123044226, 0.9009251123044226, 0.9009251123044226, 0.9009251123044226, 0.9009251123044226, 0.9009251123044226, 0.9009251123044226, 0.9009251123044226, 0.9009251123044226, 0.9009251123044226, 0.9009251123044226, 0.9009251123044226, 0.9009251123044226, 0.9009251123044226, 0.9009251123044226, 0.9009251123044226, 0.9009251123044226]}], \"recall_score_macro\": [{\"categories\": [\"0\", \"1\", \"2\", \"3\", \"4\", \"5\", \"6\", \"7\", \"8\", \"9\", \"10\", \"11\", \"12\", \"13\", \"14\", \"15\", \"16\", \"17\", \"18\", \"19\", \"20\", \"21\", \"23\", \"24\"], \"mode\": \"markers\", \"name\": \"recall_score_macro\", \"stepped\": false, \"type\": \"scatter\", \"data\": [0.7665542389680322, 0.7899604037535072, 0.792974748147162, 0.7856018580156512, 0.8039300384127971, 0.6140379295551709, 0.8020495865323451, 0.7889022026953061, 0.7634839272770307, 0.7579700390045216, 0.8060178405005991, 0.7899004916246296, 0.7507014403566128, 0.7776308328032465, 0.765275867000005, 0.783286735010873, 0.7783201921132955, 0.6333429488601902, 0.7792383516521447, 0.7927831772659358, 0.7940016371050854, 0.7736253494874186, 0.8213546058373645, 0.804469001020725]}, {\"categories\": [\"0\", \"1\", \"2\", \"3\", \"4\", \"5\", \"6\", \"7\", \"8\", \"9\", \"10\", \"11\", \"12\", \"13\", \"14\", \"15\", \"16\", \"17\", \"18\", \"19\", \"20\", \"21\", \"23\", \"24\"], \"mode\": \"lines\", \"name\": \"recall_score_macro_max\", \"stepped\": true, \"type\": \"scatter\", \"data\": [0.7665542389680322, 0.7899604037535072, 0.792974748147162, 0.792974748147162, 0.8039300384127971, 0.8039300384127971, 0.8039300384127971, 0.8039300384127971, 0.8039300384127971, 0.8039300384127971, 0.8060178405005991, 0.8060178405005991, 0.8060178405005991, 0.8060178405005991, 0.8060178405005991, 0.8060178405005991, 0.8060178405005991, 0.8060178405005991, 0.8060178405005991, 0.8060178405005991, 0.8060178405005991, 0.8060178405005991, 0.8213546058373645, 0.8213546058373645]}], \"f1_score_weighted\": [{\"categories\": [\"0\", \"1\", \"2\", \"3\", \"4\", \"5\", \"6\", \"7\", \"8\", \"9\", \"10\", \"11\", \"12\", \"13\", \"14\", \"15\", \"16\", \"17\", \"18\", \"19\", \"20\", \"21\", \"23\", \"24\"], \"mode\": \"markers\", \"name\": \"f1_score_weighted\", \"stepped\": false, \"type\": \"scatter\", \"data\": [0.7994850745596541, 0.8173118768300475, 0.8164976793048431, 0.8236846136710811, 0.8289545031567022, 0.6867493807967587, 0.8264502627451881, 0.8226270584263142, 0.8033925219486608, 0.8032593377690294, 0.8357921433232766, 0.8345617771194478, 0.8078255704670799, 0.8114441718384593, 0.8145555140812583, 0.8225929006420785, 0.8154924764842345, 0.7096295511849547, 0.8295533560752612, 0.8276638617601436, 0.8259421891116862, 0.7804491905719976, 0.8537289281396695, 0.8235715347673261]}, {\"categories\": [\"0\", \"1\", \"2\", \"3\", \"4\", \"5\", \"6\", \"7\", \"8\", \"9\", \"10\", \"11\", \"12\", \"13\", \"14\", \"15\", \"16\", \"17\", \"18\", \"19\", \"20\", \"21\", \"23\", \"24\"], \"mode\": \"lines\", \"name\": \"f1_score_weighted_max\", \"stepped\": true, \"type\": \"scatter\", \"data\": [0.7994850745596541, 0.8173118768300475, 0.8173118768300475, 0.8236846136710811, 0.8289545031567022, 0.8289545031567022, 0.8289545031567022, 0.8289545031567022, 0.8289545031567022, 0.8289545031567022, 0.8357921433232766, 0.8357921433232766, 0.8357921433232766, 0.8357921433232766, 0.8357921433232766, 0.8357921433232766, 0.8357921433232766, 0.8357921433232766, 0.8357921433232766, 0.8357921433232766, 0.8357921433232766, 0.8357921433232766, 0.8537289281396695, 0.8537289281396695]}], \"norm_macro_recall\": [{\"categories\": [\"0\", \"1\", \"2\", \"3\", \"4\", \"5\", \"6\", \"7\", \"8\", \"9\", \"10\", \"11\", \"12\", \"13\", \"14\", \"15\", \"16\", \"17\", \"18\", \"19\", \"20\", \"21\", \"23\", \"24\"], \"mode\": \"markers\", \"name\": \"norm_macro_recall\", \"stepped\": false, \"type\": \"scatter\", \"data\": [0.5331084779360642, 0.5799208075070145, 0.5859494962943238, 0.5712037160313023, 0.6078600768255942, 0.22807585911034192, 0.6040991730646903, 0.5778044053906123, 0.5269678545540615, 0.5159400780090434, 0.6120356810011983, 0.5798009832492591, 0.5014028807132255, 0.5552616656064931, 0.5305517340000099, 0.5665734700217459, 0.5566403842265911, 0.26668589772038037, 0.5584767033042896, 0.5855663545318718, 0.5880032742101707, 0.547250698974837, 0.6427092116747289, 0.6089380020414502]}, {\"categories\": [\"0\", \"1\", \"2\", \"3\", \"4\", \"5\", \"6\", \"7\", \"8\", \"9\", \"10\", \"11\", \"12\", \"13\", \"14\", \"15\", \"16\", \"17\", \"18\", \"19\", \"20\", \"21\", \"23\", \"24\"], \"mode\": \"lines\", \"name\": \"norm_macro_recall_max\", \"stepped\": true, \"type\": \"scatter\", \"data\": [0.5331084779360642, 0.5799208075070145, 0.5859494962943238, 0.5859494962943238, 0.6078600768255942, 0.6078600768255942, 0.6078600768255942, 0.6078600768255942, 0.6078600768255942, 0.6078600768255942, 0.6120356810011983, 0.6120356810011983, 0.6120356810011983, 0.6120356810011983, 0.6120356810011983, 0.6120356810011983, 0.6120356810011983, 0.6120356810011983, 0.6120356810011983, 0.6120356810011983, 0.6120356810011983, 0.6120356810011983, 0.6427092116747289, 0.6427092116747289]}], \"average_precision_score_micro\": [{\"categories\": [\"0\", \"1\", \"2\", \"3\", \"4\", \"5\", \"6\", \"7\", \"8\", \"9\", \"10\", \"11\", \"12\", \"13\", \"14\", \"15\", \"16\", \"17\", \"18\", \"19\", \"20\", \"21\", \"23\", \"24\"], \"mode\": \"markers\", \"name\": \"average_precision_score_micro\", \"stepped\": false, \"type\": \"scatter\", \"data\": [0.8707751210307144, 0.8886385174313017, 0.9015007580365997, 0.8936021976592771, 0.9044128008294595, 0.7855551614400351, 0.9060217752913761, 0.9050071474974581, 0.8885879911035843, 0.8799087259350761, 0.9037469312091547, 0.8826033814615605, 0.8868693403063731, 0.8706513899656709, 0.8799145207208677, 0.9037318863714873, 0.8737042401896932, 0.8484634216942132, 0.8810541507118635, 0.8951487015314165, 0.8928753118696809, 0.8582064830564984, 0.9019957309977075, 0.8638806744471245]}, {\"categories\": [\"0\", \"1\", \"2\", \"3\", \"4\", \"5\", \"6\", \"7\", \"8\", \"9\", \"10\", \"11\", \"12\", \"13\", \"14\", \"15\", \"16\", \"17\", \"18\", \"19\", \"20\", \"21\", \"23\", \"24\"], \"mode\": \"lines\", \"name\": \"average_precision_score_micro_max\", \"stepped\": true, \"type\": \"scatter\", \"data\": [0.8707751210307144, 0.8886385174313017, 0.9015007580365997, 0.9015007580365997, 0.9044128008294595, 0.9044128008294595, 0.9060217752913761, 0.9060217752913761, 0.9060217752913761, 0.9060217752913761, 0.9060217752913761, 0.9060217752913761, 0.9060217752913761, 0.9060217752913761, 0.9060217752913761, 0.9060217752913761, 0.9060217752913761, 0.9060217752913761, 0.9060217752913761, 0.9060217752913761, 0.9060217752913761, 0.9060217752913761, 0.9060217752913761, 0.9060217752913761]}], \"AUC_micro\": [{\"categories\": [\"0\", \"1\", \"2\", \"3\", \"4\", \"5\", \"6\", \"7\", \"8\", \"9\", \"10\", \"11\", \"12\", \"13\", \"14\", \"15\", \"16\", \"17\", \"18\", \"19\", \"20\", \"21\", \"23\", \"24\"], \"mode\": \"markers\", \"name\": \"AUC_micro\", \"stepped\": false, \"type\": \"scatter\", \"data\": [0.8769284528789579, 0.8907238819168114, 0.898723541815461, 0.8960516273849607, 0.9014898683807774, 0.7928472468795701, 0.9063182940516276, 0.9038802231064857, 0.8851369077985239, 0.8797969764989967, 0.9060886848280788, 0.8852140631908307, 0.8890534911403597, 0.8732277726762576, 0.8825550113933952, 0.9039132197394824, 0.8800534911403597, 0.8498778594021018, 0.8832521341359726, 0.8983108492330715, 0.8929277726762576, 0.858698503554059, 0.9038893582287523, 0.8719895418834813]}, {\"categories\": [\"0\", \"1\", \"2\", \"3\", \"4\", \"5\", \"6\", \"7\", \"8\", \"9\", \"10\", \"11\", \"12\", \"13\", \"14\", \"15\", \"16\", \"17\", \"18\", \"19\", \"20\", \"21\", \"23\", \"24\"], \"mode\": \"lines\", \"name\": \"AUC_micro_max\", \"stepped\": true, \"type\": \"scatter\", \"data\": [0.8769284528789579, 0.8907238819168114, 0.898723541815461, 0.898723541815461, 0.9014898683807774, 0.9014898683807774, 0.9063182940516276, 0.9063182940516276, 0.9063182940516276, 0.9063182940516276, 0.9063182940516276, 0.9063182940516276, 0.9063182940516276, 0.9063182940516276, 0.9063182940516276, 0.9063182940516276, 0.9063182940516276, 0.9063182940516276, 0.9063182940516276, 0.9063182940516276, 0.9063182940516276, 0.9063182940516276, 0.9063182940516276, 0.9063182940516276]}], \"average_precision_score_macro\": [{\"categories\": [\"0\", \"1\", \"2\", \"3\", \"4\", \"5\", \"6\", \"7\", \"8\", \"9\", \"10\", \"11\", \"12\", \"13\", \"14\", \"15\", \"16\", \"17\", \"18\", \"19\", \"20\", \"21\", \"23\", \"24\"], \"mode\": \"markers\", \"name\": \"average_precision_score_macro\", \"stepped\": false, \"type\": \"scatter\", \"data\": [0.8323265818260129, 0.8521645844042397, 0.8729401448567543, 0.8629822596942353, 0.8661105579223837, 0.7215173928134856, 0.876545276347874, 0.87945301483222, 0.8557386113690734, 0.8409112446862334, 0.8850904772946399, 0.8503885491517446, 0.8606504798437276, 0.8308970934877967, 0.8541613088510626, 0.8770783407035688, 0.8375030705291179, 0.8329091889604111, 0.8545863614198742, 0.8721824965523511, 0.8521842181537664, 0.8248275188798554, 0.8807804946987435, 0.849164101623813]}, {\"categories\": [\"0\", \"1\", \"2\", \"3\", \"4\", \"5\", \"6\", \"7\", \"8\", \"9\", \"10\", \"11\", \"12\", \"13\", \"14\", \"15\", \"16\", \"17\", \"18\", \"19\", \"20\", \"21\", \"23\", \"24\"], \"mode\": \"lines\", \"name\": \"average_precision_score_macro_max\", \"stepped\": true, \"type\": \"scatter\", \"data\": [0.8323265818260129, 0.8521645844042397, 0.8729401448567543, 0.8729401448567543, 0.8729401448567543, 0.8729401448567543, 0.876545276347874, 0.87945301483222, 0.87945301483222, 0.87945301483222, 0.8850904772946399, 0.8850904772946399, 0.8850904772946399, 0.8850904772946399, 0.8850904772946399, 0.8850904772946399, 0.8850904772946399, 0.8850904772946399, 0.8850904772946399, 0.8850904772946399, 0.8850904772946399, 0.8850904772946399, 0.8850904772946399, 0.8850904772946399]}], \"precision_score_micro\": [{\"categories\": [\"0\", \"1\", \"2\", \"3\", \"4\", \"5\", \"6\", \"7\", \"8\", \"9\", \"10\", \"11\", \"12\", \"13\", \"14\", \"15\", \"16\", \"17\", \"18\", \"19\", \"20\", \"21\", \"23\", \"24\"], \"mode\": \"markers\", \"name\": \"precision_score_micro\", \"stepped\": false, \"type\": \"scatter\", \"data\": [0.8025252525252524, 0.8192929292929293, 0.8192592592592592, 0.8294276094276095, 0.8292929292929293, 0.719023569023569, 0.8293602693602694, 0.8259932659932661, 0.8093939393939394, 0.8091919191919192, 0.8393265993265994, 0.8427272727272728, 0.8192592592592592, 0.816060606060606, 0.8260606060606062, 0.8293265993265994, 0.8193265993265992, 0.7524915824915825, 0.8394949494949495, 0.8326936026936026, 0.8293265993265994, 0.7758249158249159, 0.8595286195286196, 0.8258922558922559]}, {\"categories\": [\"0\", \"1\", \"2\", \"3\", \"4\", \"5\", \"6\", \"7\", \"8\", \"9\", \"10\", \"11\", \"12\", \"13\", \"14\", \"15\", \"16\", \"17\", \"18\", \"19\", \"20\", \"21\", \"23\", \"24\"], \"mode\": \"lines\", \"name\": \"precision_score_micro_max\", \"stepped\": true, \"type\": \"scatter\", \"data\": [0.8025252525252524, 0.8192929292929293, 0.8192929292929293, 0.8294276094276095, 0.8294276094276095, 0.8294276094276095, 0.8294276094276095, 0.8294276094276095, 0.8294276094276095, 0.8294276094276095, 0.8393265993265994, 0.8427272727272728, 0.8427272727272728, 0.8427272727272728, 0.8427272727272728, 0.8427272727272728, 0.8427272727272728, 0.8427272727272728, 0.8427272727272728, 0.8427272727272728, 0.8427272727272728, 0.8427272727272728, 0.8595286195286196, 0.8595286195286196]}], \"f1_score_micro\": [{\"categories\": [\"0\", \"1\", \"2\", \"3\", \"4\", \"5\", \"6\", \"7\", \"8\", \"9\", \"10\", \"11\", \"12\", \"13\", \"14\", \"15\", \"16\", \"17\", \"18\", \"19\", \"20\", \"21\", \"23\", \"24\"], \"mode\": \"markers\", \"name\": \"f1_score_micro\", \"stepped\": false, \"type\": \"scatter\", \"data\": [0.8025252525252525, 0.8192929292929293, 0.8192592592592592, 0.8294276094276095, 0.8292929292929293, 0.719023569023569, 0.8293602693602694, 0.8259932659932661, 0.8093939393939394, 0.8091919191919192, 0.8393265993265994, 0.8427272727272728, 0.8192592592592592, 0.816060606060606, 0.826060606060606, 0.8293265993265994, 0.8193265993265992, 0.7524915824915825, 0.8394949494949495, 0.8326936026936026, 0.8293265993265994, 0.7758249158249159, 0.8595286195286196, 0.8258922558922559]}, {\"categories\": [\"0\", \"1\", \"2\", \"3\", \"4\", \"5\", \"6\", \"7\", \"8\", \"9\", \"10\", \"11\", \"12\", \"13\", \"14\", \"15\", \"16\", \"17\", \"18\", \"19\", \"20\", \"21\", \"23\", \"24\"], \"mode\": \"lines\", \"name\": \"f1_score_micro_max\", \"stepped\": true, \"type\": \"scatter\", \"data\": [0.8025252525252525, 0.8192929292929293, 0.8192929292929293, 0.8294276094276095, 0.8294276094276095, 0.8294276094276095, 0.8294276094276095, 0.8294276094276095, 0.8294276094276095, 0.8294276094276095, 0.8393265993265994, 0.8427272727272728, 0.8427272727272728, 0.8427272727272728, 0.8427272727272728, 0.8427272727272728, 0.8427272727272728, 0.8427272727272728, 0.8427272727272728, 0.8427272727272728, 0.8427272727272728, 0.8427272727272728, 0.8595286195286196, 0.8595286195286196]}], \"precision_score_weighted\": [{\"categories\": [\"0\", \"1\", \"2\", \"3\", \"4\", \"5\", \"6\", \"7\", \"8\", \"9\", \"10\", \"11\", \"12\", \"13\", \"14\", \"15\", \"16\", \"17\", \"18\", \"19\", \"20\", \"21\", \"23\", \"24\"], \"mode\": \"markers\", \"name\": \"precision_score_weighted\", \"stepped\": false, \"type\": \"scatter\", \"data\": [0.8103076903348296, 0.8235687391092353, 0.8322620009646657, 0.8329824961751644, 0.835251630903083, 0.709218072537776, 0.838171648699333, 0.8308366103326881, 0.8084514584514585, 0.8095252169180044, 0.8465563233185104, 0.8474303135160559, 0.8253640802300223, 0.8209253215826392, 0.8329405594333318, 0.831921116921117, 0.8283114979549708, 0.7796036998335848, 0.8462367635687015, 0.8394028136005748, 0.8318635480565354, 0.7963003119390181, 0.8633436421194771, 0.8452806663771577]}, {\"categories\": [\"0\", \"1\", \"2\", \"3\", \"4\", \"5\", \"6\", \"7\", \"8\", \"9\", \"10\", \"11\", \"12\", \"13\", \"14\", \"15\", \"16\", \"17\", \"18\", \"19\", \"20\", \"21\", \"23\", \"24\"], \"mode\": \"lines\", \"name\": \"precision_score_weighted_max\", \"stepped\": true, \"type\": \"scatter\", \"data\": [0.8103076903348296, 0.8235687391092353, 0.8322620009646657, 0.8329824961751644, 0.835251630903083, 0.835251630903083, 0.838171648699333, 0.838171648699333, 0.838171648699333, 0.838171648699333, 0.8465563233185104, 0.8474303135160559, 0.8474303135160559, 0.8474303135160559, 0.8474303135160559, 0.8474303135160559, 0.8474303135160559, 0.8474303135160559, 0.8474303135160559, 0.8474303135160559, 0.8474303135160559, 0.8474303135160559, 0.8633436421194771, 0.8633436421194771]}], \"AUC_weighted\": [{\"categories\": [\"0\", \"1\", \"2\", \"3\", \"4\", \"5\", \"6\", \"7\", \"8\", \"9\", \"10\", \"11\", \"12\", \"13\", \"14\", \"15\", \"16\", \"17\", \"18\", \"19\", \"20\", \"21\", \"23\", \"24\"], \"mode\": \"markers\", \"name\": \"AUC_weighted\", \"stepped\": false, \"type\": \"scatter\", \"data\": [0.8550287233045855, 0.875938401455643, 0.8931165155303086, 0.8823031898893968, 0.8921282859213893, 0.7413663663663664, 0.8964682416406554, 0.9009251123044226, 0.8720135899446243, 0.8573723477171753, 0.898298594160663, 0.8635940373871408, 0.8786053541225955, 0.8537696070454691, 0.864316040178109, 0.8906397037431519, 0.859264929954585, 0.8524159627607903, 0.8638130248475075, 0.8927709975985838, 0.8747607706228395, 0.846317253213805, 0.8949251221665016, 0.875995650823237]}, {\"categories\": [\"0\", \"1\", \"2\", \"3\", \"4\", \"5\", \"6\", \"7\", \"8\", \"9\", \"10\", \"11\", \"12\", \"13\", \"14\", \"15\", \"16\", \"17\", \"18\", \"19\", \"20\", \"21\", \"23\", \"24\"], \"mode\": \"lines\", \"name\": \"AUC_weighted_max\", \"stepped\": true, \"type\": \"scatter\", \"data\": [0.8550287233045855, 0.875938401455643, 0.8931165155303086, 0.8931165155303086, 0.8931165155303086, 0.8931165155303086, 0.8964682416406554, 0.9009251123044226, 0.9009251123044226, 0.9009251123044226, 0.9009251123044226, 0.9009251123044226, 0.9009251123044226, 0.9009251123044226, 0.9009251123044226, 0.9009251123044226, 0.9009251123044226, 0.9009251123044226, 0.9009251123044226, 0.9009251123044226, 0.9009251123044226, 0.9009251123044226, 0.9009251123044226, 0.9009251123044226]}], \"matthews_correlation\": [{\"categories\": [\"0\", \"1\", \"2\", \"3\", \"4\", \"5\", \"6\", \"7\", \"8\", \"9\", \"10\", \"11\", \"12\", \"13\", \"14\", \"15\", \"16\", \"17\", \"18\", \"19\", \"20\", \"21\", \"23\", \"24\"], \"mode\": \"markers\", \"name\": \"matthews_correlation\", \"stepped\": false, \"type\": \"scatter\", \"data\": [0.5489062305154261, 0.5873460381369527, 0.5986094912984247, 0.6024231166274286, 0.6129446069706662, 0.2899498381699801, 0.6150214767833528, 0.5993506531552266, 0.5533566738938602, 0.5496482449930625, 0.6352951995259396, 0.6306491656551078, 0.5686824696171423, 0.5770144695579107, 0.5912083346799115, 0.5997505726951232, 0.5856949579939102, 0.39201772793049433, 0.6236320486518669, 0.6169687524587478, 0.605041966563175, 0.523160830482119, 0.6757879301394585, 0.6250219499223962]}, {\"categories\": [\"0\", \"1\", \"2\", \"3\", \"4\", \"5\", \"6\", \"7\", \"8\", \"9\", \"10\", \"11\", \"12\", \"13\", \"14\", \"15\", \"16\", \"17\", \"18\", \"19\", \"20\", \"21\", \"23\", \"24\"], \"mode\": \"lines\", \"name\": \"matthews_correlation_max\", \"stepped\": true, \"type\": \"scatter\", \"data\": [0.5489062305154261, 0.5873460381369527, 0.5986094912984247, 0.6024231166274286, 0.6129446069706662, 0.6129446069706662, 0.6150214767833528, 0.6150214767833528, 0.6150214767833528, 0.6150214767833528, 0.6352951995259396, 0.6352951995259396, 0.6352951995259396, 0.6352951995259396, 0.6352951995259396, 0.6352951995259396, 0.6352951995259396, 0.6352951995259396, 0.6352951995259396, 0.6352951995259396, 0.6352951995259396, 0.6352951995259396, 0.6757879301394585, 0.6757879301394585]}], \"precision_score_macro\": [{\"categories\": [\"0\", \"1\", \"2\", \"3\", \"4\", \"5\", \"6\", \"7\", \"8\", \"9\", \"10\", \"11\", \"12\", \"13\", \"14\", \"15\", \"16\", \"17\", \"18\", \"19\", \"20\", \"21\", \"23\", \"24\"], \"mode\": \"markers\", \"name\": \"precision_score_macro\", \"stepped\": false, \"type\": \"scatter\", \"data\": [0.7842311567478019, 0.7983113869170717, 0.8080910577404267, 0.8189806726379617, 0.8097324106636457, 0.6858717697663317, 0.8149554722140563, 0.811965655389454, 0.7911924049855085, 0.7932886496482987, 0.8312250350293828, 0.8441411015839261, 0.8231756769800249, 0.8012361483177445, 0.8312267265311859, 0.8187682887682888, 0.8099338277029267, 0.7908930150309462, 0.8490672704488493, 0.8266224896355494, 0.8121616303983185, 0.7503680254502623, 0.856624582583786, 0.8233315174104648]}, {\"categories\": [\"0\", \"1\", \"2\", \"3\", \"4\", \"5\", \"6\", \"7\", \"8\", \"9\", \"10\", \"11\", \"12\", \"13\", \"14\", \"15\", \"16\", \"17\", \"18\", \"19\", \"20\", \"21\", \"23\", \"24\"], \"mode\": \"lines\", \"name\": \"precision_score_macro_max\", \"stepped\": true, \"type\": \"scatter\", \"data\": [0.7842311567478019, 0.7983113869170717, 0.8080910577404267, 0.8189806726379617, 0.8189806726379617, 0.8189806726379617, 0.8189806726379617, 0.8189806726379617, 0.8189806726379617, 0.8189806726379617, 0.8312250350293828, 0.8441411015839261, 0.8441411015839261, 0.8441411015839261, 0.8441411015839261, 0.8441411015839261, 0.8441411015839261, 0.8441411015839261, 0.8490672704488493, 0.8490672704488493, 0.8490672704488493, 0.8490672704488493, 0.856624582583786, 0.856624582583786]}]}, \"metricName\": null, \"primaryMetricName\": \"accuracy\", \"showLegend\": false}, \"run_metrics\": [{\"name\": \"experiment_status\", \"run_id\": \"AutoML_4472f920-4aeb-4187-a1b1-38c1ee211fd5\", \"categories\": [0, 1, 2, 3, 4, 5, 6, 7, 8, 9, 10, 11, 12, 13], \"series\": [{\"data\": [\"DatasetEvaluation\", \"FeaturesGeneration\", \"DatasetFeaturization\", \"DatasetFeaturizationCompleted\", \"DatasetCrossValidationSplit\", \"ModelSelection\", \"BestRunExplainModel\", \"ModelExplanationDataSetSetup\", \"PickSurrogateModel\", \"EngineeredFeatureExplanations\", \"EngineeredFeatureExplanations\", \"RawFeaturesExplanations\", \"RawFeaturesExplanations\", \"BestRunExplainModel\"]}]}, {\"name\": \"experiment_status_description\", \"run_id\": \"AutoML_4472f920-4aeb-4187-a1b1-38c1ee211fd5\", \"categories\": [0, 1, 2, 3, 4, 5, 6, 7, 8, 9, 10, 11, 12, 13], \"series\": [{\"data\": [\"Gathering dataset statistics.\", \"Generating features for the dataset.\", \"Beginning to fit featurizers and featurize the dataset.\", \"Completed fit featurizers and featurizing the dataset.\", \"Generating individually featurized CV splits.\", \"Beginning model selection.\", \"Best run model explanations started\", \"Model explanations data setup completed\", \"Choosing LightGBM as the surrogate model for explanations\", \"Computation of engineered features started\", \"Computation of engineered features completed\", \"Computation of raw features started\", \"Computation of raw features completed\", \"Best run model explanations completed\"]}]}, {\"name\": \"accuracy\", \"run_id\": \"AutoML_4472f920-4aeb-4187-a1b1-38c1ee211fd5\", \"categories\": [0], \"series\": [{\"data\": [0.8595286195286196]}]}, {\"name\": \"norm_macro_recall\", \"run_id\": \"AutoML_4472f920-4aeb-4187-a1b1-38c1ee211fd5\", \"categories\": [0], \"series\": [{\"data\": [0.6427092116747289]}]}, {\"name\": \"log_loss\", \"run_id\": \"AutoML_4472f920-4aeb-4187-a1b1-38c1ee211fd5\", \"categories\": [0], \"series\": [{\"data\": [0.4159073133592268]}]}, {\"name\": \"precision_score_weighted\", \"run_id\": \"AutoML_4472f920-4aeb-4187-a1b1-38c1ee211fd5\", \"categories\": [0], \"series\": [{\"data\": [0.8633436421194771]}]}, {\"name\": \"precision_score_macro\", \"run_id\": \"AutoML_4472f920-4aeb-4187-a1b1-38c1ee211fd5\", \"categories\": [0], \"series\": [{\"data\": [0.856624582583786]}]}, {\"name\": \"balanced_accuracy\", \"run_id\": \"AutoML_4472f920-4aeb-4187-a1b1-38c1ee211fd5\", \"categories\": [0], \"series\": [{\"data\": [0.8213546058373645]}]}, {\"name\": \"matthews_correlation\", \"run_id\": \"AutoML_4472f920-4aeb-4187-a1b1-38c1ee211fd5\", \"categories\": [0], \"series\": [{\"data\": [0.6757879301394585]}]}, {\"name\": \"weighted_accuracy\", \"run_id\": \"AutoML_4472f920-4aeb-4187-a1b1-38c1ee211fd5\", \"categories\": [0], \"series\": [{\"data\": [0.8897873448195064]}]}, {\"name\": \"average_precision_score_macro\", \"run_id\": \"AutoML_4472f920-4aeb-4187-a1b1-38c1ee211fd5\", \"categories\": [0], \"series\": [{\"data\": [0.8807804946987435]}]}, {\"name\": \"recall_score_weighted\", \"run_id\": \"AutoML_4472f920-4aeb-4187-a1b1-38c1ee211fd5\", \"categories\": [0], \"series\": [{\"data\": [0.8595286195286196]}]}, {\"name\": \"precision_score_micro\", \"run_id\": \"AutoML_4472f920-4aeb-4187-a1b1-38c1ee211fd5\", \"categories\": [0], \"series\": [{\"data\": [0.8595286195286196]}]}, {\"name\": \"AUC_macro\", \"run_id\": \"AutoML_4472f920-4aeb-4187-a1b1-38c1ee211fd5\", \"categories\": [0], \"series\": [{\"data\": [0.8949251221665016]}]}, {\"name\": \"average_precision_score_micro\", \"run_id\": \"AutoML_4472f920-4aeb-4187-a1b1-38c1ee211fd5\", \"categories\": [0], \"series\": [{\"data\": [0.9019957309977075]}]}, {\"name\": \"f1_score_micro\", \"run_id\": \"AutoML_4472f920-4aeb-4187-a1b1-38c1ee211fd5\", \"categories\": [0], \"series\": [{\"data\": [0.8595286195286196]}]}, {\"name\": \"recall_score_micro\", \"run_id\": \"AutoML_4472f920-4aeb-4187-a1b1-38c1ee211fd5\", \"categories\": [0], \"series\": [{\"data\": [0.8595286195286196]}]}, {\"name\": \"AUC_weighted\", \"run_id\": \"AutoML_4472f920-4aeb-4187-a1b1-38c1ee211fd5\", \"categories\": [0], \"series\": [{\"data\": [0.8949251221665016]}]}, {\"name\": \"f1_score_macro\", \"run_id\": \"AutoML_4472f920-4aeb-4187-a1b1-38c1ee211fd5\", \"categories\": [0], \"series\": [{\"data\": [0.8297084365390162]}]}, {\"name\": \"average_precision_score_weighted\", \"run_id\": \"AutoML_4472f920-4aeb-4187-a1b1-38c1ee211fd5\", \"categories\": [0], \"series\": [{\"data\": [0.9031371430527679]}]}, {\"name\": \"f1_score_weighted\", \"run_id\": \"AutoML_4472f920-4aeb-4187-a1b1-38c1ee211fd5\", \"categories\": [0], \"series\": [{\"data\": [0.8537289281396695]}]}, {\"name\": \"recall_score_macro\", \"run_id\": \"AutoML_4472f920-4aeb-4187-a1b1-38c1ee211fd5\", \"categories\": [0], \"series\": [{\"data\": [0.8213546058373645]}]}, {\"name\": \"AUC_micro\", \"run_id\": \"AutoML_4472f920-4aeb-4187-a1b1-38c1ee211fd5\", \"categories\": [0], \"series\": [{\"data\": [0.9038893582287523]}]}], \"run_logs\": \"\\nRun is completed.\", \"graph\": {}, \"widget_settings\": {\"childWidgetDisplay\": \"popup\", \"send_telemetry\": false, \"log_level\": \"INFO\", \"sdk_version\": \"1.19.0\"}, \"loading\": false}"
     },
     "metadata": {},
     "output_type": "display_data"
    },
    {
     "name": "stdout",
     "output_type": "stream",
     "text": [
      "Run(Experiment: automl_test,\n",
      "Id: AutoML_4472f920-4aeb-4187-a1b1-38c1ee211fd5_23,\n",
      "Type: azureml.scriptrun,\n",
      "Status: Completed)\n",
      "Pipeline(memory=None,\n",
      "         steps=[('datatransformer',\n",
      "                 DataTransformer(enable_dnn=None, enable_feature_sweeping=None,\n",
      "                                 feature_sweeping_config=None,\n",
      "                                 feature_sweeping_timeout=None,\n",
      "                                 featurization_config=None, force_text_dnn=None,\n",
      "                                 is_cross_validation=None,\n",
      "                                 is_onnx_compatible=None, logger=None,\n",
      "                                 observer=None, task=None, working_dir=None)),\n",
      "                ('prefittedsoftvotingclassifier',...\n",
      "                                                                                                    max_leaf_nodes=None,\n",
      "                                                                                                    max_samples=None,\n",
      "                                                                                                    min_impurity_decrease=0.0,\n",
      "                                                                                                    min_impurity_split=None,\n",
      "                                                                                                    min_samples_leaf=0.035789473684210524,\n",
      "                                                                                                    min_samples_split=0.01,\n",
      "                                                                                                    min_weight_fraction_leaf=0.0,\n",
      "                                                                                                    n_estimators=10,\n",
      "                                                                                                    n_jobs=1,\n",
      "                                                                                                    oob_score=True,\n",
      "                                                                                                    random_state=None,\n",
      "                                                                                                    verbose=0,\n",
      "                                                                                                    warm_start=False))],\n",
      "                                                                     verbose=False))],\n",
      "                                               flatten_transform=None,\n",
      "                                               weights=[0.125, 0.125, 0.125,\n",
      "                                                        0.25, 0.375]))],\n",
      "         verbose=False)\n"
     ]
    },
    {
     "data": {
      "text/plain": [
       "['automl_best_model.pkl']"
      ]
     },
     "execution_count": 9,
     "metadata": {},
     "output_type": "execute_result"
    }
   ],
   "source": [
    "exp=Experiment(ws,\"automl_test\")\n",
    "automl_model=exp.submit(automl_config,show_output=True)\n",
    "### YOUR CODE HERE ###\n",
    "import joblib\n",
    "from azureml.widgets import RunDetails\n",
    "RunDetails(automl_model).show()\n",
    "best_run, fitted_model = automl_model.get_output()\n",
    "print(best_run)\n",
    "print(fitted_model)\n",
    "from azureml.core.model import Model\n",
    "import joblib\n",
    "joblib.dump(fitted_model,\"automl_best_model.pkl\")\n"
   ]
  },
  {
   "cell_type": "code",
   "execution_count": 16,
   "metadata": {},
   "outputs": [],
   "source": [
    "input_data={\"data\":[{'age': 75.0,\n",
    "  'anaemia': 0,\n",
    "  'creatinine_phosphokinase': 582,\n",
    "  'diabetes': 0,\n",
    "  'ejection_fraction': 20,\n",
    "  'high_blood_pressure': 1,\n",
    "  'platelets': 265000.0,\n",
    "  'serum_creatinine': 1.9,\n",
    "  'serum_sodium': 130,\n",
    "  'sex': 1,\n",
    "  'smoking': 0,\n",
    "  'time': 4}]}"
   ]
  },
  {
   "cell_type": "code",
   "execution_count": 12,
   "metadata": {},
   "outputs": [],
   "source": [
    "dictionary =best_run.get_environment()"
   ]
  },
  {
   "cell_type": "code",
   "execution_count": 21,
   "metadata": {},
   "outputs": [
    {
     "data": {
      "text/plain": [
       "{'EXAMPLE_ENV_VAR': 'EXAMPLE_VALUE'}"
      ]
     },
     "execution_count": 21,
     "metadata": {},
     "output_type": "execute_result"
    }
   ],
   "source": [
    "dictionary.environment_variables"
   ]
  },
  {
   "cell_type": "code",
   "execution_count": 25,
   "metadata": {},
   "outputs": [],
   "source": [
    "dictionary.save_to_directory(path=\"./a\")"
   ]
  },
  {
   "cell_type": "code",
   "execution_count": 20,
   "metadata": {},
   "outputs": [
    {
     "data": {
      "text/plain": [
       "{\n",
       "    \"databricks\": {\n",
       "        \"eggLibraries\": [],\n",
       "        \"jarLibraries\": [],\n",
       "        \"mavenLibraries\": [],\n",
       "        \"pypiLibraries\": [],\n",
       "        \"rcranLibraries\": []\n",
       "    },\n",
       "    \"docker\": {\n",
       "        \"arguments\": [],\n",
       "        \"baseDockerfile\": null,\n",
       "        \"baseImage\": \"mcr.microsoft.com/azureml/intelmpi2018.3-ubuntu16.04:20201113.v1\",\n",
       "        \"baseImageRegistry\": {\n",
       "            \"address\": null,\n",
       "            \"password\": null,\n",
       "            \"registryIdentity\": null,\n",
       "            \"username\": null\n",
       "        },\n",
       "        \"enabled\": true,\n",
       "        \"platform\": {\n",
       "            \"architecture\": \"amd64\",\n",
       "            \"os\": \"Linux\"\n",
       "        },\n",
       "        \"sharedVolumes\": true,\n",
       "        \"shmSize\": null\n",
       "    },\n",
       "    \"environmentVariables\": {\n",
       "        \"EXAMPLE_ENV_VAR\": \"EXAMPLE_VALUE\"\n",
       "    },\n",
       "    \"inferencingStackVersion\": null,\n",
       "    \"name\": \"AutoML-AzureML-AutoML\",\n",
       "    \"python\": {\n",
       "        \"baseCondaEnvironment\": null,\n",
       "        \"condaDependencies\": {\n",
       "            \"channels\": [\n",
       "                \"anaconda\",\n",
       "                \"conda-forge\",\n",
       "                \"pytorch\"\n",
       "            ],\n",
       "            \"dependencies\": [\n",
       "                \"python=3.6.2\",\n",
       "                \"pip=20.2.4\",\n",
       "                {\n",
       "                    \"pip\": [\n",
       "                        \"azureml-core==1.19.0\",\n",
       "                        \"azureml-pipeline-core==1.19.0\",\n",
       "                        \"azureml-telemetry==1.19.0\",\n",
       "                        \"azureml-defaults==1.19.0\",\n",
       "                        \"azureml-interpret==1.19.0\",\n",
       "                        \"azureml-automl-core==1.19.0\",\n",
       "                        \"azureml-automl-runtime==1.19.0\",\n",
       "                        \"azureml-train-automl-client==1.19.0\",\n",
       "                        \"azureml-train-automl-runtime==1.19.0\",\n",
       "                        \"azureml-dataset-runtime==1.19.0\",\n",
       "                        \"inference-schema\",\n",
       "                        \"py-cpuinfo==5.0.0\",\n",
       "                        \"boto3==1.15.18\",\n",
       "                        \"botocore==1.18.18\"\n",
       "                    ]\n",
       "                },\n",
       "                \"numpy~=1.18.0\",\n",
       "                \"scikit-learn==0.22.1\",\n",
       "                \"pandas~=0.25.0\",\n",
       "                \"py-xgboost<=0.90\",\n",
       "                \"fbprophet==0.5\",\n",
       "                \"holidays==0.9.11\",\n",
       "                \"setuptools-git\",\n",
       "                \"psutil>5.0.0,<6.0.0\"\n",
       "            ],\n",
       "            \"name\": \"azureml_8eff28b157f42edcd2424a5aae6c8074\"\n",
       "        },\n",
       "        \"condaDependenciesFile\": null,\n",
       "        \"interpreterPath\": \"python\",\n",
       "        \"userManagedDependencies\": false\n",
       "    },\n",
       "    \"r\": null,\n",
       "    \"spark\": {\n",
       "        \"packages\": [],\n",
       "        \"precachePackages\": true,\n",
       "        \"repositories\": []\n",
       "    },\n",
       "    \"version\": \"Autosave_2020-12-23T17:02:24Z_66463d46\"\n",
       "}"
      ]
     },
     "execution_count": 20,
     "metadata": {},
     "output_type": "execute_result"
    }
   ],
   "source": [
    "best_run.get_environment()"
   ]
  },
  {
   "cell_type": "code",
   "execution_count": 13,
   "metadata": {},
   "outputs": [
    {
     "ename": "TypeError",
     "evalue": "Object of type 'Environment' is not JSON serializable",
     "output_type": "error",
     "traceback": [
      "\u001b[0;31m---------------------------------------------------------------------------\u001b[0m",
      "\u001b[0;31mTypeError\u001b[0m                                 Traceback (most recent call last)",
      "\u001b[0;32m<ipython-input-13-0c4867d88418>\u001b[0m in \u001b[0;36m<module>\u001b[0;34m\u001b[0m\n\u001b[1;32m      1\u001b[0m \u001b[0;32mimport\u001b[0m \u001b[0mjson\u001b[0m\u001b[0;34m\u001b[0m\u001b[0;34m\u001b[0m\u001b[0m\n\u001b[0;32m----> 2\u001b[0;31m \u001b[0mjson_object\u001b[0m \u001b[0;34m=\u001b[0m \u001b[0mjson\u001b[0m\u001b[0;34m.\u001b[0m\u001b[0mdumps\u001b[0m\u001b[0;34m(\u001b[0m\u001b[0mdictionary\u001b[0m\u001b[0;34m,\u001b[0m \u001b[0mindent\u001b[0m \u001b[0;34m=\u001b[0m \u001b[0;36m4\u001b[0m\u001b[0;34m)\u001b[0m\u001b[0;34m\u001b[0m\u001b[0;34m\u001b[0m\u001b[0m\n\u001b[0m\u001b[1;32m      3\u001b[0m \u001b[0mprint\u001b[0m\u001b[0;34m(\u001b[0m\u001b[0mjson_object\u001b[0m\u001b[0;34m)\u001b[0m\u001b[0;34m\u001b[0m\u001b[0;34m\u001b[0m\u001b[0m\n",
      "\u001b[0;32m/anaconda/envs/azureml_py36/lib/python3.6/json/__init__.py\u001b[0m in \u001b[0;36mdumps\u001b[0;34m(obj, skipkeys, ensure_ascii, check_circular, allow_nan, cls, indent, separators, default, sort_keys, **kw)\u001b[0m\n\u001b[1;32m    236\u001b[0m         \u001b[0mcheck_circular\u001b[0m\u001b[0;34m=\u001b[0m\u001b[0mcheck_circular\u001b[0m\u001b[0;34m,\u001b[0m \u001b[0mallow_nan\u001b[0m\u001b[0;34m=\u001b[0m\u001b[0mallow_nan\u001b[0m\u001b[0;34m,\u001b[0m \u001b[0mindent\u001b[0m\u001b[0;34m=\u001b[0m\u001b[0mindent\u001b[0m\u001b[0;34m,\u001b[0m\u001b[0;34m\u001b[0m\u001b[0;34m\u001b[0m\u001b[0m\n\u001b[1;32m    237\u001b[0m         \u001b[0mseparators\u001b[0m\u001b[0;34m=\u001b[0m\u001b[0mseparators\u001b[0m\u001b[0;34m,\u001b[0m \u001b[0mdefault\u001b[0m\u001b[0;34m=\u001b[0m\u001b[0mdefault\u001b[0m\u001b[0;34m,\u001b[0m \u001b[0msort_keys\u001b[0m\u001b[0;34m=\u001b[0m\u001b[0msort_keys\u001b[0m\u001b[0;34m,\u001b[0m\u001b[0;34m\u001b[0m\u001b[0;34m\u001b[0m\u001b[0m\n\u001b[0;32m--> 238\u001b[0;31m         **kw).encode(obj)\n\u001b[0m\u001b[1;32m    239\u001b[0m \u001b[0;34m\u001b[0m\u001b[0m\n\u001b[1;32m    240\u001b[0m \u001b[0;34m\u001b[0m\u001b[0m\n",
      "\u001b[0;32m/anaconda/envs/azureml_py36/lib/python3.6/json/encoder.py\u001b[0m in \u001b[0;36mencode\u001b[0;34m(self, o)\u001b[0m\n\u001b[1;32m    199\u001b[0m         \u001b[0mchunks\u001b[0m \u001b[0;34m=\u001b[0m \u001b[0mself\u001b[0m\u001b[0;34m.\u001b[0m\u001b[0miterencode\u001b[0m\u001b[0;34m(\u001b[0m\u001b[0mo\u001b[0m\u001b[0;34m,\u001b[0m \u001b[0m_one_shot\u001b[0m\u001b[0;34m=\u001b[0m\u001b[0;32mTrue\u001b[0m\u001b[0;34m)\u001b[0m\u001b[0;34m\u001b[0m\u001b[0;34m\u001b[0m\u001b[0m\n\u001b[1;32m    200\u001b[0m         \u001b[0;32mif\u001b[0m \u001b[0;32mnot\u001b[0m \u001b[0misinstance\u001b[0m\u001b[0;34m(\u001b[0m\u001b[0mchunks\u001b[0m\u001b[0;34m,\u001b[0m \u001b[0;34m(\u001b[0m\u001b[0mlist\u001b[0m\u001b[0;34m,\u001b[0m \u001b[0mtuple\u001b[0m\u001b[0;34m)\u001b[0m\u001b[0;34m)\u001b[0m\u001b[0;34m:\u001b[0m\u001b[0;34m\u001b[0m\u001b[0;34m\u001b[0m\u001b[0m\n\u001b[0;32m--> 201\u001b[0;31m             \u001b[0mchunks\u001b[0m \u001b[0;34m=\u001b[0m \u001b[0mlist\u001b[0m\u001b[0;34m(\u001b[0m\u001b[0mchunks\u001b[0m\u001b[0;34m)\u001b[0m\u001b[0;34m\u001b[0m\u001b[0;34m\u001b[0m\u001b[0m\n\u001b[0m\u001b[1;32m    202\u001b[0m         \u001b[0;32mreturn\u001b[0m \u001b[0;34m''\u001b[0m\u001b[0;34m.\u001b[0m\u001b[0mjoin\u001b[0m\u001b[0;34m(\u001b[0m\u001b[0mchunks\u001b[0m\u001b[0;34m)\u001b[0m\u001b[0;34m\u001b[0m\u001b[0;34m\u001b[0m\u001b[0m\n\u001b[1;32m    203\u001b[0m \u001b[0;34m\u001b[0m\u001b[0m\n",
      "\u001b[0;32m/anaconda/envs/azureml_py36/lib/python3.6/json/encoder.py\u001b[0m in \u001b[0;36m_iterencode\u001b[0;34m(o, _current_indent_level)\u001b[0m\n\u001b[1;32m    435\u001b[0m                     \u001b[0;32mraise\u001b[0m \u001b[0mValueError\u001b[0m\u001b[0;34m(\u001b[0m\u001b[0;34m\"Circular reference detected\"\u001b[0m\u001b[0;34m)\u001b[0m\u001b[0;34m\u001b[0m\u001b[0;34m\u001b[0m\u001b[0m\n\u001b[1;32m    436\u001b[0m                 \u001b[0mmarkers\u001b[0m\u001b[0;34m[\u001b[0m\u001b[0mmarkerid\u001b[0m\u001b[0;34m]\u001b[0m \u001b[0;34m=\u001b[0m \u001b[0mo\u001b[0m\u001b[0;34m\u001b[0m\u001b[0;34m\u001b[0m\u001b[0m\n\u001b[0;32m--> 437\u001b[0;31m             \u001b[0mo\u001b[0m \u001b[0;34m=\u001b[0m \u001b[0m_default\u001b[0m\u001b[0;34m(\u001b[0m\u001b[0mo\u001b[0m\u001b[0;34m)\u001b[0m\u001b[0;34m\u001b[0m\u001b[0;34m\u001b[0m\u001b[0m\n\u001b[0m\u001b[1;32m    438\u001b[0m             \u001b[0;32myield\u001b[0m \u001b[0;32mfrom\u001b[0m \u001b[0m_iterencode\u001b[0m\u001b[0;34m(\u001b[0m\u001b[0mo\u001b[0m\u001b[0;34m,\u001b[0m \u001b[0m_current_indent_level\u001b[0m\u001b[0;34m)\u001b[0m\u001b[0;34m\u001b[0m\u001b[0;34m\u001b[0m\u001b[0m\n\u001b[1;32m    439\u001b[0m             \u001b[0;32mif\u001b[0m \u001b[0mmarkers\u001b[0m \u001b[0;32mis\u001b[0m \u001b[0;32mnot\u001b[0m \u001b[0;32mNone\u001b[0m\u001b[0;34m:\u001b[0m\u001b[0;34m\u001b[0m\u001b[0;34m\u001b[0m\u001b[0m\n",
      "\u001b[0;32m/anaconda/envs/azureml_py36/lib/python3.6/json/encoder.py\u001b[0m in \u001b[0;36mdefault\u001b[0;34m(self, o)\u001b[0m\n\u001b[1;32m    178\u001b[0m         \"\"\"\n\u001b[1;32m    179\u001b[0m         raise TypeError(\"Object of type '%s' is not JSON serializable\" %\n\u001b[0;32m--> 180\u001b[0;31m                         o.__class__.__name__)\n\u001b[0m\u001b[1;32m    181\u001b[0m \u001b[0;34m\u001b[0m\u001b[0m\n\u001b[1;32m    182\u001b[0m     \u001b[0;32mdef\u001b[0m \u001b[0mencode\u001b[0m\u001b[0;34m(\u001b[0m\u001b[0mself\u001b[0m\u001b[0;34m,\u001b[0m \u001b[0mo\u001b[0m\u001b[0;34m)\u001b[0m\u001b[0;34m:\u001b[0m\u001b[0;34m\u001b[0m\u001b[0;34m\u001b[0m\u001b[0m\n",
      "\u001b[0;31mTypeError\u001b[0m: Object of type 'Environment' is not JSON serializable"
     ]
    }
   ],
   "source": [
    "import json\n",
    "json_object = json.dumps(dictionary, indent = 4)   \n",
    "print(json_object)"
   ]
  },
  {
   "cell_type": "code",
   "execution_count": 12,
   "metadata": {},
   "outputs": [],
   "source": [
    "input_data=x_df[0:2].to_dict(orient='records')\n",
    "import json\n",
    "import joblib\n",
    "i=json.dumps(input_data)\n",
    "data = json.loads(i)\n",
    "model2=joblib.load(\"automl_best_model.pkl\")\n",
    "result = model2.predict(pd.DataFrame(data))"
   ]
  },
  {
   "cell_type": "code",
   "execution_count": 14,
   "metadata": {},
   "outputs": [
    {
     "name": "stdout",
     "output_type": "stream",
     "text": [
      "Registering model test\n"
     ]
    }
   ],
   "source": [
    "from azureml.core.model import Model\n",
    "import joblib\n",
    "model = Model.register(workspace=ws, model_path=\"automl_best_model.pkl\", model_name=\"test\")"
   ]
  },
  {
   "cell_type": "code",
   "execution_count": 16,
   "metadata": {},
   "outputs": [
    {
     "name": "stdout",
     "output_type": "stream",
     "text": [
      "Downloading model test:1 to /tmp/azureml_gtgpl2cc/test/1\n",
      "Generating Docker build context.\n",
      "Package creation Succeeded\n",
      "Logging into Docker registry viennaglobal.azurecr.io\n",
      "Logging into Docker registry viennaglobal.azurecr.io\n",
      "Building Docker image from Dockerfile...\n",
      "Step 1/5 : FROM viennaglobal.azurecr.io/azureml/azureml_9cc1a26fb8a5f7bac5f3a2cd8086e190\n",
      " ---> 614b72a6c7ae\n",
      "Step 2/5 : COPY azureml-app /var/azureml-app\n",
      " ---> 561595297591\n",
      "Step 3/5 : RUN mkdir -p '/var/azureml-app' && echo eyJhY2NvdW50Q29udGV4dCI6eyJzdWJzY3JpcHRpb25JZCI6ImRhNzc1Y2I5LTljYTYtNDk0My1hZDIxLTI2ZGZhOTk1MjZmYyIsInJlc291cmNlR3JvdXBOYW1lIjoiYW1sLXF1aWNrc3RhcnRzLTEyOTQxNyIsImFjY291bnROYW1lIjoicXVpY2stc3RhcnRzLXdzLTEyOTQxNyIsIndvcmtzcGFjZUlkIjoiYWNlNmMxZGUtZDU1NS00NmIxLTgwNjItZDBmMWYzMGE1NDRkIn0sIm1vZGVscyI6e30sIm1vZGVsc0luZm8iOnt9fQ== | base64 --decode > /var/azureml-app/model_config_map.json\n",
      " ---> Running in 53c8e44ef072\n",
      " ---> 9370659dca44\n",
      "Step 4/5 : RUN mv '/var/azureml-app/tmpoohal_t_.py' /var/azureml-app/main.py\n",
      " ---> Running in 592f0d8fbde8\n",
      " ---> 4b3027f306b0\n",
      "Step 5/5 : CMD [\"runsvdir\",\"/var/runit\"]\n",
      " ---> Running in 136acf602d77\n",
      " ---> 55dfa8d9f6a5\n",
      "Successfully built 55dfa8d9f6a5\n",
      "Successfully tagged test:latest\n",
      "Container (name:great_rubin, id:5010741fbc9ed45f6dd29503153835b5722b1b87245a3b7858b7ef50dea17373) cannot be killed.\n",
      "Container has been successfully cleaned up.\n",
      "Image sha256:e1425262eb069da575f0e99a536eecc7d08a2c63985b1ee334c1c46034deef9b successfully removed.\n",
      "Starting Docker container...\n",
      "Docker container running.\n",
      "Checking container health...\n",
      "Local webservice is running at http://localhost:9000\n"
     ]
    }
   ],
   "source": [
    "from azureml.core.webservice import LocalWebservice\n",
    "from azureml.core.model import InferenceConfig\n",
    "local_config = LocalWebservice.deploy_configuration(port=9000)\n",
    "inference_config = InferenceConfig(entry_script='score.py', environment=best_run.get_environment())\n",
    "\n",
    "local_service = Model.deploy(ws, \"test\", [model], inference_config, local_config)\n",
    "\n",
    "local_service.wait_for_deployment(show_output=True)"
   ]
  },
  {
   "cell_type": "code",
   "execution_count": 61,
   "metadata": {},
   "outputs": [],
   "source": [
    "import json\n",
    "try:\n",
    "    i=json.dumps(input_data)\n",
    "    data = json.loads(i)\n",
    "except Eception as e:\n",
    "    print(e)\n",
    "#data = json.loads(i)"
   ]
  },
  {
   "cell_type": "code",
   "execution_count": 42,
   "metadata": {},
   "outputs": [
    {
     "data": {
      "text/plain": [
       "'{\"data\": [{\"age\": 75.0, \"anaemia\": 0, \"creatinine_phosphokinase\": 582, \"diabetes\": 0, \"ejection_fraction\": 20, \"high_blood_pressure\": 1, \"platelets\": 265000.0, \"serum_creatinine\": 1.9, \"serum_sodium\": 130, \"sex\": 1, \"smoking\": 0, \"time\": 4}]}'"
      ]
     },
     "execution_count": 42,
     "metadata": {},
     "output_type": "execute_result"
    }
   ],
   "source": [
    "i"
   ]
  },
  {
   "cell_type": "code",
   "execution_count": 19,
   "metadata": {},
   "outputs": [
    {
     "name": "stdout",
     "output_type": "stream",
     "text": [
      "Tips: You can try get_logs(): https://aka.ms/debugimage#dockerlog or local deployment: https://aka.ms/debugimage#debug-locally to debug if deployment takes longer than 10 minutes.\n",
      "Running...............\n",
      "Succeeded\n",
      "ACI service creation operation finished, operation \"Succeeded\"\n"
     ]
    }
   ],
   "source": [
    "from azureml.core.model import InferenceConfig\n",
    "from azureml.core.webservice import AciWebservice\n",
    "\n",
    "\n",
    "service_name = 'custom-env-service'\n",
    "\n",
    "aci_config = AciWebservice.deploy_configuration(cpu_cores=1, memory_gb=1)\n",
    "\n",
    "service = Model.deploy(workspace=ws,\n",
    "                       name=service_name,\n",
    "                       models=[model],\n",
    "                       inference_config=inference_config,\n",
    "                       deployment_config=aci_config,\n",
    "                       overwrite=True)\n",
    "service.wait_for_deployment(show_output=True)"
   ]
  },
  {
   "cell_type": "code",
   "execution_count": 20,
   "metadata": {},
   "outputs": [
    {
     "data": {
      "text/plain": [
       "'2020-12-06T03:49:23.9642703Z stdout F 2020-12-06T03:49:24,206367800+00:00 - gunicorn/run \\n2020-12-06T03:49:23.9692836Z stdout F 2020-12-06T03:49:24,209210700+00:00 - iot-server/run \\n2020-12-06T03:49:23.9722702Z stdout F 2020-12-06T03:49:24,214625300+00:00 - rsyslog/run \\n2020-12-06T03:49:24.0032773Z stdout F 2020-12-06T03:49:24,245805800+00:00 - nginx/run \\n2020-12-06T03:49:24.0092728Z stderr F /usr/sbin/nginx: /azureml-envs/azureml_7cf2b5eebfc9a832d561ce064cfbc38b/lib/libcrypto.so.1.0.0: no version information available (required by /usr/sbin/nginx)\\n2020-12-06T03:49:24.0092728Z stderr F /usr/sbin/nginx: /azureml-envs/azureml_7cf2b5eebfc9a832d561ce064cfbc38b/lib/libcrypto.so.1.0.0: no version information available (required by /usr/sbin/nginx)\\n2020-12-06T03:49:24.0142819Z stderr F /usr/sbin/nginx: /azureml-envs/azureml_7cf2b5eebfc9a832d561ce064cfbc38b/lib/libssl.so.1.0.0: no version information available (required by /usr/sbin/nginx)\\n2020-12-06T03:49:24.0142819Z stderr F /usr/sbin/nginx: /azureml-envs/azureml_7cf2b5eebfc9a832d561ce064cfbc38b/lib/libssl.so.1.0.0: no version information available (required by /usr/sbin/nginx)\\n2020-12-06T03:49:24.0142819Z stderr F /usr/sbin/nginx: /azureml-envs/azureml_7cf2b5eebfc9a832d561ce064cfbc38b/lib/libssl.so.1.0.0: no version information available (required by /usr/sbin/nginx)\\n2020-12-06T03:49:24.0782752Z stderr F rsyslogd: /azureml-envs/azureml_7cf2b5eebfc9a832d561ce064cfbc38b/lib/libuuid.so.1: no version information available (required by rsyslogd)\\n2020-12-06T03:49:25.6426041Z stdout F EdgeHubConnectionString and IOTEDGE_IOTHUBHOSTNAME are not set. Exiting...\\n2020-12-06T03:49:25.6656506Z stdout F 2020-12-06T03:49:25,908456500+00:00 - iot-server/finish 1 0\\n2020-12-06T03:49:25.6716516Z stdout F 2020-12-06T03:49:25,914457000+00:00 - Exit code 1 is normal. Not restarting iot-server.\\n2020-12-06T03:49:25.8899606Z stdout F Starting gunicorn 19.9.0\\n2020-12-06T03:49:25.8919582Z stdout F Listening at: http://127.0.0.1:31311 (65)\\n2020-12-06T03:49:25.8919582Z stdout F Using worker: sync\\n2020-12-06T03:49:25.8939635Z stdout F worker timeout is set to 300\\n2020-12-06T03:49:25.901967Z stdout F Booting worker with pid: 94\\n2020-12-06T03:49:31.5418464Z stdout F SPARK_HOME not set. Skipping PySpark Initialization.\\n2020-12-06T03:49:31.5418464Z stdout F Generating new fontManager, this may take some time...\\n2020-12-06T03:49:33.0269964Z stdout F Initializing logger\\n2020-12-06T03:49:33.0269964Z stdout F 2020-12-06 03:49:33,268 | root | INFO | Starting up app insights client\\n2020-12-06T03:49:33.0269964Z stdout F Starting up app insights client\\n2020-12-06T03:49:33.0280021Z stdout F 2020-12-06 03:49:33,269 | root | INFO | Starting up request id generator\\n2020-12-06T03:49:33.0280021Z stdout F Starting up request id generator\\n2020-12-06T03:49:33.0280021Z stdout F 2020-12-06 03:49:33,270 | root | INFO | Starting up app insight hooks\\n2020-12-06T03:49:33.0280021Z stdout F Starting up app insight hooks\\n2020-12-06T03:49:33.0289976Z stdout F 2020-12-06 03:49:33,271 | root | INFO | Invoking user\\'s init function\\n2020-12-06T03:49:33.0289976Z stdout F Invoking user\\'s init function\\n2020-12-06T03:49:39.821998Z stderr F /azureml-envs/azureml_7cf2b5eebfc9a832d561ce064cfbc38b/lib/python3.6/site-packages/sklearn/externals/joblib/__init__.py:15: FutureWarning: sklearn.externals.joblib is deprecated in 0.21 and will be removed in 0.23. Please import this functionality directly from joblib, which can be installed with: pip install joblib. If this warning is raised when loading pickled models, you may need to re-serialize those models with scikit-learn 0.21+.\\n2020-12-06T03:49:39.821998Z stderr F   warnings.warn(msg, category=FutureWarning)\\n2020-12-06T03:49:39.821998Z stdout F 2020-12-06 03:49:40,063 | root | INFO | Users\\'s init has completed successfully\\n2020-12-06T03:49:39.821998Z stdout F Users\\'s init has completed successfully\\n2020-12-06T03:49:39.8280149Z stdout F 2020-12-06 03:49:40,070 | root | INFO | Skipping middleware: dbg_model_info as it\\'s not enabled.\\n2020-12-06T03:49:39.8280149Z stdout F Skipping middleware: dbg_model_info as it\\'s not enabled.\\n2020-12-06T03:49:39.8290124Z stdout F 2020-12-06 03:49:40,070 | root | INFO | Skipping middleware: dbg_resource_usage as it\\'s not enabled.\\n2020-12-06T03:49:39.8290124Z stdout F Skipping middleware: dbg_resource_usage as it\\'s not enabled.\\n2020-12-06T03:49:39.8320123Z stdout F 2020-12-06 03:49:40,073 | root | INFO | Scoring timeout is found from os.environ: 60000 ms\\n2020-12-06T03:49:39.8320123Z stdout F Scoring timeout is found from os.environ: 60000 ms\\n2020-12-06T03:49:39.8740621Z stdout F 2020-12-06 03:49:40,123 | root | INFO | Swagger file not present\\n2020-12-06T03:49:39.8740621Z stdout F Swagger file not present\\n2020-12-06T03:49:39.8740621Z stdout F 2020-12-06 03:49:40,124 | root | INFO | 404\\n2020-12-06T03:49:39.8740621Z stdout F 404\\n2020-12-06T03:49:39.8740621Z stdout F 127.0.0.1 - - [06/Dec/2020:03:49:40 +0000] \"GET /swagger.json HTTP/1.0\" 404 19 \"-\" \"Go-http-client/1.1\"\\n2020-12-06T03:49:42.5265542Z stdout F 2020-12-06 03:49:42,768 | root | INFO | Swagger file not present\\n2020-12-06T03:49:42.5265542Z stdout F Swagger file not present\\n2020-12-06T03:49:42.527563Z stdout F 2020-12-06 03:49:42,769 | root | INFO | 404\\n2020-12-06T03:49:42.527563Z stdout F 404\\n2020-12-06T03:49:42.528554Z stdout F 127.0.0.1 - - [06/Dec/2020:03:49:42 +0000] \"GET /swagger.json HTTP/1.0\" 404 19 \"-\" \"Go-http-client/1.1\"\\n'"
      ]
     },
     "execution_count": 20,
     "metadata": {},
     "output_type": "execute_result"
    }
   ],
   "source": [
    "service.get_logs()"
   ]
  },
  {
   "cell_type": "code",
   "execution_count": 21,
   "metadata": {},
   "outputs": [
    {
     "data": {
      "text/plain": [
       "'http://3aca9197-7e92-4032-9f35-6ba286844d32.southcentralus.azurecontainer.io/score'"
      ]
     },
     "execution_count": 21,
     "metadata": {},
     "output_type": "execute_result"
    }
   ],
   "source": [
    "service.scoring_uri"
   ]
  },
  {
   "cell_type": "code",
   "execution_count": 22,
   "metadata": {},
   "outputs": [
    {
     "name": "stdout",
     "output_type": "stream",
     "text": [
      "\u001b[33mTo sign in, use a web browser to open the page https://microsoft.com/devicelogin and enter the code F4BTNW4T2 to authenticate.\u001b[0m\n",
      "[\n",
      "  {\n",
      "    \"cloudName\": \"AzureCloud\",\n",
      "    \"homeTenantId\": \"660b3398-b80e-49d2-bc5b-ac1dc93b5254\",\n",
      "    \"id\": \"da775cb9-9ca6-4943-ad21-26dfa99526fc\",\n",
      "    \"isDefault\": true,\n",
      "    \"managedByTenants\": [],\n",
      "    \"name\": \"Azure Sponsorship - Udacity -46\",\n",
      "    \"state\": \"Enabled\",\n",
      "    \"tenantId\": \"660b3398-b80e-49d2-bc5b-ac1dc93b5254\",\n",
      "    \"user\": {\n",
      "      \"name\": \"odl_user_129417@udacitylabs.onmicrosoft.com\",\n",
      "      \"type\": \"user\"\n",
      "    }\n",
      "  }\n",
      "]\n",
      "\u001b[0m"
     ]
    }
   ],
   "source": [
    "!az login\n",
    "service.update(auth_enabled=True)"
   ]
  },
  {
   "cell_type": "code",
   "execution_count": 90,
   "metadata": {},
   "outputs": [],
   "source": [
    "\n",
    "\n",
    "headers={\"Content-Type\":\"application/json\"}\n",
    "key=\"nmzf01o9jlalITeEPXejCGkw7Bqs0Iv0\"\n",
    "headers[\"Authorization\"]=f'Bearer \"hL84fRidVsQHrZsgj9he798pG7tEyr6c\"'\n",
    "import requests\n",
    "result=requests.post('http://3aca9197-7e92-4032-9f35-6ba286844d32.southcentralus.azurecontainer.io/score',i,headers=headers)"
   ]
  },
  {
   "cell_type": "code",
   "execution_count": 13,
   "metadata": {},
   "outputs": [
    {
     "data": {
      "text/plain": [
       "array([1, 1])"
      ]
     },
     "execution_count": 13,
     "metadata": {},
     "output_type": "execute_result"
    }
   ],
   "source": [
    "result"
   ]
  },
  {
   "cell_type": "code",
   "execution_count": 23,
   "metadata": {},
   "outputs": [],
   "source": [
    "\n",
    "service.delete()\n",
    "\n",
    "compute_target.delete()"
   ]
  }
 ],
 "metadata": {
  "kernel_info": {
   "name": "python3-azureml"
  },
  "kernelspec": {
   "display_name": "Python 3",
   "language": "python",
   "name": "python3"
  },
  "language_info": {
   "codemirror_mode": {
    "name": "ipython",
    "version": 3
   },
   "file_extension": ".py",
   "mimetype": "text/x-python",
   "name": "python",
   "nbconvert_exporter": "python",
   "pygments_lexer": "ipython3",
   "version": "3.7.7"
  },
  "nteract": {
   "version": "nteract-front-end@1.0.0"
  }
 },
 "nbformat": 4,
 "nbformat_minor": 2
}
